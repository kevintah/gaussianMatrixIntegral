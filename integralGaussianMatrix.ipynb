{
  "nbformat": 4,
  "nbformat_minor": 0,
  "metadata": {
    "colab": {
      "name": "integralGaussianMatrix.ipynb",
      "provenance": [],
      "authorship_tag": "ABX9TyOw1zbuij/J6zWws1e5OSl3",
      "include_colab_link": true
    },
    "kernelspec": {
      "name": "python3",
      "display_name": "Python 3"
    },
    "language_info": {
      "name": "python"
    }
  },
  "cells": [
    {
      "cell_type": "markdown",
      "metadata": {
        "id": "view-in-github",
        "colab_type": "text"
      },
      "source": [
        "<a href=\"https://colab.research.google.com/github/kevintah/gaussianMatrixIntegral/blob/main/integralGaussianMatrix.ipynb\" target=\"_parent\"><img src=\"https://colab.research.google.com/assets/colab-badge.svg\" alt=\"Open In Colab\"/></a>"
      ]
    },
    {
      "cell_type": "markdown",
      "source": [
        "References  -- In progress\n",
        "```\n",
        "\n",
        "https://en.wikipedia.org/wiki/Common_integrals_in_quantum_field_theory\n",
        "\n",
        "https://www.youtube.com/watch?v=mUAB1a623cc&t=607s\n",
        "\n",
        "https://docs.sympy.org/latest/modules/matrices/matrices.html\n",
        "\n",
        "https://www.geeksforgeeks.org/python-sympy-matrix-diagonalize-method/\n",
        "\n",
        "https://github.com/sympy/sympy/issues/9712\n"
      ],
      "metadata": {
        "id": "NX_mfhRf9LPR"
      }
    },
    {
      "cell_type": "code",
      "execution_count": 127,
      "metadata": {
        "id": "6gLsL1nk5Xt9"
      },
      "outputs": [],
      "source": [
        "import numpy as np\n",
        "from numpy import linalg as LA\n",
        "from sympy import *\n",
        "import scipy.integrate as integrate\n",
        "import sympy as sam\n"
      ]
    },
    {
      "cell_type": "code",
      "source": [
        "import scipy as sp"
      ],
      "metadata": {
        "id": "aHK3WiT95hHl"
      },
      "execution_count": 128,
      "outputs": []
    },
    {
      "cell_type": "code",
      "source": [
        "A = [[2,1],\n",
        "     [1,1]]"
      ],
      "metadata": {
        "id": "Aw-6UcvG5mLL"
      },
      "execution_count": 129,
      "outputs": []
    },
    {
      "cell_type": "code",
      "source": [
        "w, v = LA.eig(A)"
      ],
      "metadata": {
        "id": "VhGOEBan5_0K"
      },
      "execution_count": 130,
      "outputs": []
    },
    {
      "cell_type": "code",
      "source": [
        "w"
      ],
      "metadata": {
        "colab": {
          "base_uri": "https://localhost:8080/"
        },
        "id": "KiBb9op16wpe",
        "outputId": "c2b5b0c2-e1ec-41e9-d0cc-e9cb9852f9c5"
      },
      "execution_count": 131,
      "outputs": [
        {
          "output_type": "execute_result",
          "data": {
            "text/plain": [
              "array([2.61803399, 0.38196601])"
            ]
          },
          "metadata": {},
          "execution_count": 131
        }
      ]
    },
    {
      "cell_type": "code",
      "source": [
        "v"
      ],
      "metadata": {
        "colab": {
          "base_uri": "https://localhost:8080/"
        },
        "id": "3_16bE3A6yBt",
        "outputId": "9deb9087-be11-44e6-e4ec-85d9338fb7a7"
      },
      "execution_count": 132,
      "outputs": [
        {
          "output_type": "execute_result",
          "data": {
            "text/plain": [
              "array([[ 0.85065081, -0.52573111],\n",
              "       [ 0.52573111,  0.85065081]])"
            ]
          },
          "metadata": {},
          "execution_count": 132
        }
      ]
    },
    {
      "cell_type": "code",
      "source": [
        "M = Matrix(A)\n",
        "P, D = M.diagonalize() "
      ],
      "metadata": {
        "id": "GhESsPcO6y9C"
      },
      "execution_count": 133,
      "outputs": []
    },
    {
      "cell_type": "code",
      "source": [
        "D"
      ],
      "metadata": {
        "colab": {
          "base_uri": "https://localhost:8080/",
          "height": 68
        },
        "id": "en6Hr8LM74vG",
        "outputId": "f3a98917-170d-499c-e016-9bb95b7af40d"
      },
      "execution_count": 134,
      "outputs": [
        {
          "output_type": "execute_result",
          "data": {
            "text/plain": [
              "Matrix([\n",
              "[3/2 - sqrt(5)/2,               0],\n",
              "[              0, sqrt(5)/2 + 3/2]])"
            ],
            "text/latex": "$\\displaystyle \\left[\\begin{matrix}\\frac{3}{2} - \\frac{\\sqrt{5}}{2} & 0\\\\0 & \\frac{\\sqrt{5}}{2} + \\frac{3}{2}\\end{matrix}\\right]$"
          },
          "metadata": {},
          "execution_count": 134
        }
      ]
    },
    {
      "cell_type": "code",
      "source": [
        "P"
      ],
      "metadata": {
        "colab": {
          "base_uri": "https://localhost:8080/",
          "height": 61
        },
        "id": "m6tY0t1Z8JrF",
        "outputId": "452f55ae-20a9-4651-b4d0-0702afbf5275"
      },
      "execution_count": 135,
      "outputs": [
        {
          "output_type": "execute_result",
          "data": {
            "text/plain": [
              "Matrix([\n",
              "[1/2 - sqrt(5)/2, 1/2 + sqrt(5)/2],\n",
              "[              1,               1]])"
            ],
            "text/latex": "$\\displaystyle \\left[\\begin{matrix}\\frac{1}{2} - \\frac{\\sqrt{5}}{2} & \\frac{1}{2} + \\frac{\\sqrt{5}}{2}\\\\1 & 1\\end{matrix}\\right]$"
          },
          "metadata": {},
          "execution_count": 135
        }
      ]
    },
    {
      "cell_type": "code",
      "source": [
        "P.inv()"
      ],
      "metadata": {
        "colab": {
          "base_uri": "https://localhost:8080/",
          "height": 72
        },
        "id": "bJoSNiOc8LYp",
        "outputId": "070af590-0ae6-4d64-b391-bb6298b914e3"
      },
      "execution_count": 136,
      "outputs": [
        {
          "output_type": "execute_result",
          "data": {
            "text/plain": [
              "Matrix([\n",
              "[(-1 + sqrt(5))/(-5 + sqrt(5)), 1/(5/2 - sqrt(5)/2)],\n",
              "[                    sqrt(5)/5,    1/2 - sqrt(5)/10]])"
            ],
            "text/latex": "$\\displaystyle \\left[\\begin{matrix}\\frac{-1 + \\sqrt{5}}{-5 + \\sqrt{5}} & \\frac{1}{\\frac{5}{2} - \\frac{\\sqrt{5}}{2}}\\\\\\frac{\\sqrt{5}}{5} & \\frac{1}{2} - \\frac{\\sqrt{5}}{10}\\end{matrix}\\right]$"
          },
          "metadata": {},
          "execution_count": 136
        }
      ]
    },
    {
      "cell_type": "code",
      "source": [
        "x=Symbol('x')\n",
        "x**2\n",
        "M2 =exp(D*-x**2)\n",
        "M2"
      ],
      "metadata": {
        "colab": {
          "base_uri": "https://localhost:8080/",
          "height": 79
        },
        "id": "QVanyTFy8dVK",
        "outputId": "09894e96-6f1b-4915-cdcf-74dbde2d41cc"
      },
      "execution_count": 137,
      "outputs": [
        {
          "output_type": "execute_result",
          "data": {
            "text/plain": [
              "Matrix([\n",
              "[exp(-x**2*(3/2 - sqrt(5)/2)),                            0],\n",
              "[                           0, exp(-x**2*(sqrt(5)/2 + 3/2))]])"
            ],
            "text/latex": "$\\displaystyle \\left[\\begin{matrix}e^{- x^{2} \\left(\\frac{3}{2} - \\frac{\\sqrt{5}}{2}\\right)} & 0\\\\0 & e^{- x^{2} \\left(\\frac{\\sqrt{5}}{2} + \\frac{3}{2}\\right)}\\end{matrix}\\right]$"
          },
          "metadata": {},
          "execution_count": 137
        }
      ]
    },
    {
      "cell_type": "code",
      "source": [
        "M3 = P*M2*P.inv()"
      ],
      "metadata": {
        "id": "r5zTObbh-CWu"
      },
      "execution_count": 138,
      "outputs": []
    },
    {
      "cell_type": "code",
      "source": [
        "#M3"
      ],
      "metadata": {
        "id": "samj62q__R0E"
      },
      "execution_count": 152,
      "outputs": []
    },
    {
      "cell_type": "code",
      "source": [
        "#M3.integrate(x,)"
      ],
      "metadata": {
        "id": "qN13ZXfTAH4c"
      },
      "execution_count": 151,
      "outputs": []
    },
    {
      "cell_type": "code",
      "source": [
        "#sam.integrate(M3.as_mutable(), (x,0,oo))"
      ],
      "metadata": {
        "id": "xSSNV1tDEsX6"
      },
      "execution_count": 150,
      "outputs": []
    },
    {
      "cell_type": "code",
      "source": [
        ""
      ],
      "metadata": {
        "id": "XccI_7woOTxF"
      },
      "execution_count": 144,
      "outputs": []
    },
    {
      "cell_type": "code",
      "source": [
        ""
      ],
      "metadata": {
        "id": "siS3juyweMiq"
      },
      "execution_count": 147,
      "outputs": []
    },
    {
      "cell_type": "code",
      "source": [
        ""
      ],
      "metadata": {
        "id": "-FtKaJ_ceWE0"
      },
      "execution_count": null,
      "outputs": []
    }
  ]
}