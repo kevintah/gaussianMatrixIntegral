{
  "nbformat": 4,
  "nbformat_minor": 0,
  "metadata": {
    "colab": {
      "name": "integralGaussianMatrix.ipynb",
      "provenance": [],
      "authorship_tag": "ABX9TyO6Gzb1h1C0orDprGzB0E5R",
      "include_colab_link": true
    },
    "kernelspec": {
      "name": "python3",
      "display_name": "Python 3"
    },
    "language_info": {
      "name": "python"
    }
  },
  "cells": [
    {
      "cell_type": "markdown",
      "metadata": {
        "id": "view-in-github",
        "colab_type": "text"
      },
      "source": [
        "<a href=\"https://colab.research.google.com/github/kevintah/gaussianMatrixIntegral/blob/main/integralGaussianMatrix.ipynb\" target=\"_parent\"><img src=\"https://colab.research.google.com/assets/colab-badge.svg\" alt=\"Open In Colab\"/></a>"
      ]
    },
    {
      "cell_type": "markdown",
      "source": [
        "References  \n",
        "```\n",
        "\n",
        "https://en.wikipedia.org/wiki/Common_integrals_in_quantum_field_theory\n",
        "\n",
        "https://www.youtube.com/watch?v=mUAB1a623cc&t=607s\n",
        "\n",
        "https://docs.sympy.org/latest/modules/matrices/matrices.html\n",
        "\n",
        "https://www.geeksforgeeks.org/python-sympy-matrix-diagonalize-method/\n",
        "\n",
        "https://github.com/sympy/sympy/issues/9712\n"
      ],
      "metadata": {
        "id": "NX_mfhRf9LPR"
      }
    },
    {
      "cell_type": "code",
      "execution_count": 402,
      "metadata": {
        "id": "6gLsL1nk5Xt9"
      },
      "outputs": [],
      "source": [
        "import numpy as np\n",
        "from numpy import linalg as LA\n",
        "from sympy import *\n",
        "import scipy.integrate as integrate\n",
        "import sympy as sam\n"
      ]
    },
    {
      "cell_type": "code",
      "source": [
        "import scipy as sp"
      ],
      "metadata": {
        "id": "aHK3WiT95hHl"
      },
      "execution_count": 403,
      "outputs": []
    },
    {
      "cell_type": "code",
      "source": [
        "A = [[2,1],\n",
        "     [1,1]]"
      ],
      "metadata": {
        "id": "Aw-6UcvG5mLL"
      },
      "execution_count": 404,
      "outputs": []
    },
    {
      "cell_type": "code",
      "source": [
        "Matrix(A).det()"
      ],
      "metadata": {
        "colab": {
          "base_uri": "https://localhost:8080/",
          "height": 38
        },
        "id": "PurME-9KHOq8",
        "outputId": "aebb095a-c980-4a84-b234-c22a0100bb03"
      },
      "execution_count": 405,
      "outputs": [
        {
          "output_type": "execute_result",
          "data": {
            "text/plain": [
              "1"
            ],
            "text/latex": "$\\displaystyle 1$"
          },
          "metadata": {},
          "execution_count": 405
        }
      ]
    },
    {
      "cell_type": "code",
      "source": [
        "Z = Matrix(A)\n",
        "vects =Z.eigenvects()\n",
        "vects"
      ],
      "metadata": {
        "id": "VhGOEBan5_0K",
        "colab": {
          "base_uri": "https://localhost:8080/"
        },
        "outputId": "3cb10a45-5576-4ac7-83eb-497f4dfbe21f"
      },
      "execution_count": 406,
      "outputs": [
        {
          "output_type": "execute_result",
          "data": {
            "text/plain": [
              "[(3/2 - sqrt(5)/2, 1, [Matrix([\n",
              "   [-1/(1/2 + sqrt(5)/2)],\n",
              "   [                   1]])]), (sqrt(5)/2 + 3/2, 1, [Matrix([\n",
              "   [-1/(1/2 - sqrt(5)/2)],\n",
              "   [                   1]])])]"
            ]
          },
          "metadata": {},
          "execution_count": 406
        }
      ]
    },
    {
      "cell_type": "code",
      "source": [
        "Matrix([\n",
        "   [-1/(1/2 + sqrt(5)/2), -1/(1/2 - sqrt(5)/2)],\n",
        "   [                   1, 1]])"
      ],
      "metadata": {
        "colab": {
          "base_uri": "https://localhost:8080/",
          "height": 68
        },
        "id": "3_16bE3A6yBt",
        "outputId": "d9314b07-6df2-4f82-f0f2-6eee1e882e6a"
      },
      "execution_count": 407,
      "outputs": [
        {
          "output_type": "execute_result",
          "data": {
            "text/plain": [
              "Matrix([\n",
              "[-1/(0.5 + sqrt(5)/2), -1/(0.5 - sqrt(5)/2)],\n",
              "[                   1,                    1]])"
            ],
            "text/latex": "$\\displaystyle \\left[\\begin{matrix}- \\frac{1}{0.5 + \\frac{\\sqrt{5}}{2}} & - \\frac{1}{0.5 - \\frac{\\sqrt{5}}{2}}\\\\1 & 1\\end{matrix}\\right]$"
          },
          "metadata": {},
          "execution_count": 407
        }
      ]
    },
    {
      "cell_type": "code",
      "source": [
        "M = Matrix(A)\n",
        "P, D = M.diagonalize() "
      ],
      "metadata": {
        "id": "GhESsPcO6y9C"
      },
      "execution_count": 408,
      "outputs": []
    },
    {
      "cell_type": "code",
      "source": [
        "D"
      ],
      "metadata": {
        "colab": {
          "base_uri": "https://localhost:8080/",
          "height": 68
        },
        "id": "en6Hr8LM74vG",
        "outputId": "7c45dd0e-af62-4e36-bee5-e560802c2ff9"
      },
      "execution_count": 409,
      "outputs": [
        {
          "output_type": "execute_result",
          "data": {
            "text/plain": [
              "Matrix([\n",
              "[3/2 - sqrt(5)/2,               0],\n",
              "[              0, sqrt(5)/2 + 3/2]])"
            ],
            "text/latex": "$\\displaystyle \\left[\\begin{matrix}\\frac{3}{2} - \\frac{\\sqrt{5}}{2} & 0\\\\0 & \\frac{\\sqrt{5}}{2} + \\frac{3}{2}\\end{matrix}\\right]$"
          },
          "metadata": {},
          "execution_count": 409
        }
      ]
    },
    {
      "cell_type": "code",
      "source": [
        "P"
      ],
      "metadata": {
        "colab": {
          "base_uri": "https://localhost:8080/",
          "height": 61
        },
        "id": "m6tY0t1Z8JrF",
        "outputId": "fd7e29ea-a9c7-4182-ddbb-6685283730fb"
      },
      "execution_count": 410,
      "outputs": [
        {
          "output_type": "execute_result",
          "data": {
            "text/plain": [
              "Matrix([\n",
              "[1/2 - sqrt(5)/2, 1/2 + sqrt(5)/2],\n",
              "[              1,               1]])"
            ],
            "text/latex": "$\\displaystyle \\left[\\begin{matrix}\\frac{1}{2} - \\frac{\\sqrt{5}}{2} & \\frac{1}{2} + \\frac{\\sqrt{5}}{2}\\\\1 & 1\\end{matrix}\\right]$"
          },
          "metadata": {},
          "execution_count": 410
        }
      ]
    },
    {
      "cell_type": "code",
      "source": [
        "P.inv()"
      ],
      "metadata": {
        "colab": {
          "base_uri": "https://localhost:8080/",
          "height": 72
        },
        "id": "bJoSNiOc8LYp",
        "outputId": "382e50b8-a31d-4af9-8aa4-6fe4f4f9063b"
      },
      "execution_count": 411,
      "outputs": [
        {
          "output_type": "execute_result",
          "data": {
            "text/plain": [
              "Matrix([\n",
              "[(-1 + sqrt(5))/(-5 + sqrt(5)), 1/(5/2 - sqrt(5)/2)],\n",
              "[                    sqrt(5)/5,    1/2 - sqrt(5)/10]])"
            ],
            "text/latex": "$\\displaystyle \\left[\\begin{matrix}\\frac{-1 + \\sqrt{5}}{-5 + \\sqrt{5}} & \\frac{1}{\\frac{5}{2} - \\frac{\\sqrt{5}}{2}}\\\\\\frac{\\sqrt{5}}{5} & \\frac{1}{2} - \\frac{\\sqrt{5}}{10}\\end{matrix}\\right]$"
          },
          "metadata": {},
          "execution_count": 411
        }
      ]
    },
    {
      "cell_type": "code",
      "source": [
        "O = Matrix([\n",
        "   [     1,                  1/(1/2 + sqrt(5)/2)],\n",
        "   [  -1/(1/2 - sqrt(5)/2) ,                    1]])\n",
        "O"
      ],
      "metadata": {
        "colab": {
          "base_uri": "https://localhost:8080/",
          "height": 73
        },
        "id": "V8_idSsC7dnf",
        "outputId": "90093f03-374d-4008-ec9b-8e6d8c837e09"
      },
      "execution_count": 412,
      "outputs": [
        {
          "output_type": "execute_result",
          "data": {
            "text/plain": [
              "Matrix([\n",
              "[                   1, 1/(0.5 + sqrt(5)/2)],\n",
              "[-1/(0.5 - sqrt(5)/2),                   1]])"
            ],
            "text/latex": "$\\displaystyle \\left[\\begin{matrix}1 & \\frac{1}{0.5 + \\frac{\\sqrt{5}}{2}}\\\\- \\frac{1}{0.5 - \\frac{\\sqrt{5}}{2}} & 1\\end{matrix}\\right]$"
          },
          "metadata": {},
          "execution_count": 412
        }
      ]
    },
    {
      "cell_type": "code",
      "source": [
        "M1 = sam.Transpose(O)"
      ],
      "metadata": {
        "id": "Bz2rnqwKu6CD"
      },
      "execution_count": 413,
      "outputs": []
    },
    {
      "cell_type": "code",
      "source": [
        "M1"
      ],
      "metadata": {
        "colab": {
          "base_uri": "https://localhost:8080/",
          "height": 77
        },
        "id": "n1tea7zN9i14",
        "outputId": "82851b00-2def-4f20-912f-e64500338ad7"
      },
      "execution_count": 414,
      "outputs": [
        {
          "output_type": "execute_result",
          "data": {
            "text/plain": [
              "Matrix([\n",
              "[                   1, 1/(0.5 + sqrt(5)/2)],\n",
              "[-1/(0.5 - sqrt(5)/2),                   1]]).T"
            ],
            "text/latex": "$\\displaystyle \\left(\\left[\\begin{matrix}1 & \\frac{1}{0.5 + \\frac{\\sqrt{5}}{2}}\\\\- \\frac{1}{0.5 - \\frac{\\sqrt{5}}{2}} & 1\\end{matrix}\\right]\\right)^{T}$"
          },
          "metadata": {},
          "execution_count": 414
        }
      ]
    },
    {
      "cell_type": "code",
      "source": [
        "x = Symbol('x')"
      ],
      "metadata": {
        "id": "ikNmjYS59j2c"
      },
      "execution_count": 415,
      "outputs": []
    },
    {
      "cell_type": "code",
      "source": [
        "y = Symbol('y')"
      ],
      "metadata": {
        "id": "IGYEV6Js9yQW"
      },
      "execution_count": 416,
      "outputs": []
    },
    {
      "cell_type": "code",
      "source": [
        "M2 = Matrix([[x],[x]])"
      ],
      "metadata": {
        "id": "_s0kidO_93gA"
      },
      "execution_count": 417,
      "outputs": []
    },
    {
      "cell_type": "code",
      "source": [
        "M2"
      ],
      "metadata": {
        "colab": {
          "base_uri": "https://localhost:8080/",
          "height": 58
        },
        "id": "Sv0vmd72-YBe",
        "outputId": "3f6314cd-2a19-451c-f468-b172f1b90cd6"
      },
      "execution_count": 418,
      "outputs": [
        {
          "output_type": "execute_result",
          "data": {
            "text/plain": [
              "Matrix([\n",
              "[x],\n",
              "[x]])"
            ],
            "text/latex": "$\\displaystyle \\left[\\begin{matrix}x\\\\x\\end{matrix}\\right]$"
          },
          "metadata": {},
          "execution_count": 418
        }
      ]
    },
    {
      "cell_type": "code",
      "source": [
        "M3 =M1*M2"
      ],
      "metadata": {
        "id": "6edxymRN-ZBM"
      },
      "execution_count": 419,
      "outputs": []
    },
    {
      "cell_type": "code",
      "source": [
        "M3"
      ],
      "metadata": {
        "colab": {
          "base_uri": "https://localhost:8080/",
          "height": 72
        },
        "id": "Kyblb4vF-q7z",
        "outputId": "cdf36d4c-c42d-436e-b620-458f9427d4b9"
      },
      "execution_count": 420,
      "outputs": [
        {
          "output_type": "execute_result",
          "data": {
            "text/plain": [
              "Matrix([\n",
              "[x - x/(0.5 - sqrt(5)/2)],\n",
              "[x/(0.5 + sqrt(5)/2) + x]])"
            ],
            "text/latex": "$\\displaystyle \\left[\\begin{matrix}x - \\frac{x}{0.5 - \\frac{\\sqrt{5}}{2}}\\\\\\frac{x}{0.5 + \\frac{\\sqrt{5}}{2}} + x\\end{matrix}\\right]$"
          },
          "metadata": {},
          "execution_count": 420
        }
      ]
    },
    {
      "cell_type": "code",
      "source": [
        "M4 = M3*Transpose(M3)"
      ],
      "metadata": {
        "id": "veeAJoMh-5qe"
      },
      "execution_count": 421,
      "outputs": []
    },
    {
      "cell_type": "code",
      "source": [
        "M5 = D*M4"
      ],
      "metadata": {
        "id": "H3Z0RYE--8Ez"
      },
      "execution_count": 422,
      "outputs": []
    },
    {
      "cell_type": "code",
      "source": [
        "M5"
      ],
      "metadata": {
        "colab": {
          "base_uri": "https://localhost:8080/",
          "height": 105
        },
        "id": "BFFBBPtg_RWO",
        "outputId": "a3a67a52-6804-408d-fc84-1877aff5f407"
      },
      "execution_count": 423,
      "outputs": [
        {
          "output_type": "execute_result",
          "data": {
            "text/plain": [
              "Matrix([\n",
              "[                       (3/2 - sqrt(5)/2)*(x - x/(0.5 - sqrt(5)/2))**2, (3/2 - sqrt(5)/2)*(x - x/(0.5 - sqrt(5)/2))*(x/(0.5 + sqrt(5)/2) + x)],\n",
              "[(sqrt(5)/2 + 3/2)*(x - x/(0.5 - sqrt(5)/2))*(x/(0.5 + sqrt(5)/2) + x),                        (sqrt(5)/2 + 3/2)*(x/(0.5 + sqrt(5)/2) + x)**2]])"
            ],
            "text/latex": "$\\displaystyle \\left[\\begin{matrix}\\left(\\frac{3}{2} - \\frac{\\sqrt{5}}{2}\\right) \\left(x - \\frac{x}{0.5 - \\frac{\\sqrt{5}}{2}}\\right)^{2} & \\left(\\frac{3}{2} - \\frac{\\sqrt{5}}{2}\\right) \\left(x - \\frac{x}{0.5 - \\frac{\\sqrt{5}}{2}}\\right) \\left(\\frac{x}{0.5 + \\frac{\\sqrt{5}}{2}} + x\\right)\\\\\\left(\\frac{\\sqrt{5}}{2} + \\frac{3}{2}\\right) \\left(x - \\frac{x}{0.5 - \\frac{\\sqrt{5}}{2}}\\right) \\left(\\frac{x}{0.5 + \\frac{\\sqrt{5}}{2}} + x\\right) & \\left(\\frac{\\sqrt{5}}{2} + \\frac{3}{2}\\right) \\left(\\frac{x}{0.5 + \\frac{\\sqrt{5}}{2}} + x\\right)^{2}\\end{matrix}\\right]$"
          },
          "metadata": {},
          "execution_count": 423
        }
      ]
    },
    {
      "cell_type": "code",
      "source": [
        "M5.apart"
      ],
      "metadata": {
        "colab": {
          "base_uri": "https://localhost:8080/"
        },
        "id": "AlTjivfb_tP4",
        "outputId": "9304a1cb-328c-4420-cdaf-f0f474c3ba34"
      },
      "execution_count": 424,
      "outputs": [
        {
          "output_type": "execute_result",
          "data": {
            "text/plain": [
              "<bound method Expr.apart of Matrix([\n",
              "[                       (3/2 - sqrt(5)/2)*(x - x/(0.5 - sqrt(5)/2))**2, (3/2 - sqrt(5)/2)*(x - x/(0.5 - sqrt(5)/2))*(x/(0.5 + sqrt(5)/2) + x)],\n",
              "[(sqrt(5)/2 + 3/2)*(x - x/(0.5 - sqrt(5)/2))*(x/(0.5 + sqrt(5)/2) + x),                        (sqrt(5)/2 + 3/2)*(x/(0.5 + sqrt(5)/2) + x)**2]])>"
            ]
          },
          "metadata": {},
          "execution_count": 424
        }
      ]
    },
    {
      "cell_type": "code",
      "source": [
        "M6 = (3/2 - sqrt(5)/2)*(x - x/(0.5 - sqrt(5)/2))**2 + (sqrt(5)/2 + 3/2)*(x/(0.5 + sqrt(5)/2) + x)**2"
      ],
      "metadata": {
        "id": "6nCftIufCTHr"
      },
      "execution_count": 425,
      "outputs": []
    },
    {
      "cell_type": "code",
      "source": [
        "M6"
      ],
      "metadata": {
        "colab": {
          "base_uri": "https://localhost:8080/",
          "height": 72
        },
        "id": "UbvYs-uICd2m",
        "outputId": "356add84-160d-4907-dc90-bf94dfbe2da6"
      },
      "execution_count": 426,
      "outputs": [
        {
          "output_type": "execute_result",
          "data": {
            "text/plain": [
              "(1.5 - sqrt(5)/2)*(x - x/(0.5 - sqrt(5)/2))**2 + (sqrt(5)/2 + 1.5)*(x/(0.5 + sqrt(5)/2) + x)**2"
            ],
            "text/latex": "$\\displaystyle \\left(1.5 - \\frac{\\sqrt{5}}{2}\\right) \\left(x - \\frac{x}{0.5 - \\frac{\\sqrt{5}}{2}}\\right)^{2} + \\left(\\frac{\\sqrt{5}}{2} + 1.5\\right) \\left(\\frac{x}{0.5 + \\frac{\\sqrt{5}}{2}} + x\\right)^{2}$"
          },
          "metadata": {},
          "execution_count": 426
        }
      ]
    },
    {
      "cell_type": "code",
      "source": [
        "M7 =simplify(M6)"
      ],
      "metadata": {
        "id": "gmP314g3EvUj"
      },
      "execution_count": 427,
      "outputs": []
    },
    {
      "cell_type": "code",
      "source": [
        "M7"
      ],
      "metadata": {
        "colab": {
          "base_uri": "https://localhost:8080/",
          "height": 47
        },
        "id": "lG28WCBvEuyU",
        "outputId": "8c9aa31c-9923-4a7e-e658-883cdde71eb9"
      },
      "execution_count": 428,
      "outputs": [
        {
          "output_type": "execute_result",
          "data": {
            "text/plain": [
              "x**2*(2.0*sqrt(5) + 5.0)"
            ],
            "text/latex": "$\\displaystyle x^{2} \\left(2.0 \\sqrt{5} + 5.0\\right)$"
          },
          "metadata": {},
          "execution_count": 428
        }
      ]
    },
    {
      "cell_type": "code",
      "source": [
        "M8 = exp(- 1/2 * M7)\n"
      ],
      "metadata": {
        "id": "H-v3pxPACet5"
      },
      "execution_count": 429,
      "outputs": []
    },
    {
      "cell_type": "code",
      "source": [
        "M8\n"
      ],
      "metadata": {
        "colab": {
          "base_uri": "https://localhost:8080/",
          "height": 43
        },
        "id": "Zs5_CloWCqiR",
        "outputId": "c8fd39a5-4771-496c-de2c-1944d85706ec"
      },
      "execution_count": 430,
      "outputs": [
        {
          "output_type": "execute_result",
          "data": {
            "text/plain": [
              "exp(-0.5*x**2*(2.0*sqrt(5) + 5.0))"
            ],
            "text/latex": "$\\displaystyle e^{- 0.5 x^{2} \\left(2.0 \\sqrt{5} + 5.0\\right)}$"
          },
          "metadata": {},
          "execution_count": 430
        }
      ]
    },
    {
      "cell_type": "code",
      "source": [
        "M9 =sam.integrate(M8, (x, 0, oo))"
      ],
      "metadata": {
        "id": "oRO1BQcAC7K6"
      },
      "execution_count": 431,
      "outputs": []
    },
    {
      "cell_type": "code",
      "source": [
        "M9"
      ],
      "metadata": {
        "colab": {
          "base_uri": "https://localhost:8080/",
          "height": 62
        },
        "id": "gh3LfClOHAAD",
        "outputId": "ce003d4e-549d-4ca3-ebf9-5395db950e5e"
      },
      "execution_count": 400,
      "outputs": [
        {
          "output_type": "execute_result",
          "data": {
            "text/plain": [
              "0.2*sqrt(pi)*sqrt(1.0*sqrt(5) + 2.5)/(0.4*sqrt(5) + 1.0)"
            ],
            "text/latex": "$\\displaystyle \\frac{0.2 \\sqrt{\\pi} \\sqrt{1.0 \\sqrt{5} + 2.5}}{0.4 \\sqrt{5} + 1.0}$"
          },
          "metadata": {},
          "execution_count": 400
        }
      ]
    },
    {
      "cell_type": "code",
      "source": [
        "simplify(M9)"
      ],
      "metadata": {
        "colab": {
          "base_uri": "https://localhost:8080/",
          "height": 48
        },
        "id": "tSLtt4cRFEF6",
        "outputId": "2f68c9bc-158c-4ef4-fec9-e2e9ca7b0f5d"
      },
      "execution_count": 401,
      "outputs": [
        {
          "output_type": "execute_result",
          "data": {
            "text/plain": [
              "-0.4*sqrt(5)*sqrt(pi)*sqrt(1.0*sqrt(5) + 2.5) + 1.0*sqrt(pi)*sqrt(1.0*sqrt(5) + 2.5)"
            ],
            "text/latex": "$\\displaystyle - 0.4 \\sqrt{5} \\sqrt{\\pi} \\sqrt{1.0 \\sqrt{5} + 2.5} + 1.0 \\sqrt{\\pi} \\sqrt{1.0 \\sqrt{5} + 2.5}$"
          },
          "metadata": {},
          "execution_count": 401
        }
      ]
    },
    {
      "cell_type": "code",
      "source": [
        ""
      ],
      "metadata": {
        "id": "NjP3RUKMGUwI"
      },
      "execution_count": null,
      "outputs": []
    }
  ]
}