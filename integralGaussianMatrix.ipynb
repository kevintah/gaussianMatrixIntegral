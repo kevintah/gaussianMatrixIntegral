{
  "nbformat": 4,
  "nbformat_minor": 0,
  "metadata": {
    "colab": {
      "name": "integralGaussianMatrix.ipynb",
      "provenance": [],
      "collapsed_sections": [],
      "authorship_tag": "ABX9TyPesgzOvmczsxobh48Ecvvj",
      "include_colab_link": true
    },
    "kernelspec": {
      "name": "python3",
      "display_name": "Python 3"
    },
    "language_info": {
      "name": "python"
    }
  },
  "cells": [
    {
      "cell_type": "markdown",
      "metadata": {
        "id": "view-in-github",
        "colab_type": "text"
      },
      "source": [
        "<a href=\"https://colab.research.google.com/github/kevintah/gaussianMatrixIntegral/blob/main/integralGaussianMatrix.ipynb\" target=\"_parent\"><img src=\"https://colab.research.google.com/assets/colab-badge.svg\" alt=\"Open In Colab\"/></a>"
      ]
    },
    {
      "cell_type": "markdown",
      "source": [
        "References  \n",
        "```\n",
        "\n",
        "https://en.wikipedia.org/wiki/Common_integrals_in_quantum_field_theory\n",
        "\n",
        "https://www.youtube.com/watch?v=mUAB1a623cc&t=607s\n",
        "\n",
        "https://docs.sympy.org/latest/modules/matrices/matrices.html\n",
        "\n",
        "https://www.geeksforgeeks.org/python-sympy-matrix-diagonalize-method/\n",
        "\n",
        "https://github.com/sympy/sympy/issues/9712\n"
      ],
      "metadata": {
        "id": "NX_mfhRf9LPR"
      }
    },
    {
      "cell_type": "code",
      "execution_count": 289,
      "metadata": {
        "id": "6gLsL1nk5Xt9"
      },
      "outputs": [],
      "source": [
        "import numpy as np\n",
        "from numpy import linalg as LA\n",
        "from sympy import *\n",
        "import scipy.integrate as integrate\n",
        "import sympy as sam\n"
      ]
    },
    {
      "cell_type": "code",
      "source": [
        "import scipy as sp"
      ],
      "metadata": {
        "id": "aHK3WiT95hHl"
      },
      "execution_count": 290,
      "outputs": []
    },
    {
      "cell_type": "code",
      "source": [
        "A = [[2,1],\n",
        "     [1,1]]"
      ],
      "metadata": {
        "id": "Aw-6UcvG5mLL"
      },
      "execution_count": 291,
      "outputs": []
    },
    {
      "cell_type": "code",
      "source": [
        "Matrix(A).det()"
      ],
      "metadata": {
        "colab": {
          "base_uri": "https://localhost:8080/",
          "height": 38
        },
        "id": "PurME-9KHOq8",
        "outputId": "0dde0ea3-604d-4ad7-e397-f7a678fd60d2"
      },
      "execution_count": 292,
      "outputs": [
        {
          "output_type": "execute_result",
          "data": {
            "text/plain": [
              "1"
            ],
            "text/latex": "$\\displaystyle 1$"
          },
          "metadata": {},
          "execution_count": 292
        }
      ]
    },
    {
      "cell_type": "code",
      "source": [
        "Z = Matrix(A)\n",
        "Z.eigenvals()"
      ],
      "metadata": {
        "colab": {
          "base_uri": "https://localhost:8080/"
        },
        "id": "L03fmrq2kNX2",
        "outputId": "111c8d04-bf24-47b1-ab32-1480b417ca15"
      },
      "execution_count": 293,
      "outputs": [
        {
          "output_type": "execute_result",
          "data": {
            "text/plain": [
              "{3/2 - sqrt(5)/2: 1, sqrt(5)/2 + 3/2: 1}"
            ]
          },
          "metadata": {},
          "execution_count": 293
        }
      ]
    },
    {
      "cell_type": "code",
      "source": [
        "\n",
        "vects =Z.eigenvects()\n",
        "vects"
      ],
      "metadata": {
        "id": "VhGOEBan5_0K",
        "colab": {
          "base_uri": "https://localhost:8080/"
        },
        "outputId": "b7843039-7aa4-4801-854e-740a821a35b5"
      },
      "execution_count": 294,
      "outputs": [
        {
          "output_type": "execute_result",
          "data": {
            "text/plain": [
              "[(3/2 - sqrt(5)/2, 1, [Matrix([\n",
              "   [-1/(1/2 + sqrt(5)/2)],\n",
              "   [                   1]])]), (sqrt(5)/2 + 3/2, 1, [Matrix([\n",
              "   [-1/(1/2 - sqrt(5)/2)],\n",
              "   [                   1]])])]"
            ]
          },
          "metadata": {},
          "execution_count": 294
        }
      ]
    },
    {
      "cell_type": "code",
      "source": [
        "a =simplify(-1/(1/2 + sqrt(5)/2))\n",
        "a"
      ],
      "metadata": {
        "colab": {
          "base_uri": "https://localhost:8080/",
          "height": 39
        },
        "id": "o0x_zrxVRjJy",
        "outputId": "85ebae9e-05bd-4c20-bd76-8723e8a9ed70"
      },
      "execution_count": 295,
      "outputs": [
        {
          "output_type": "execute_result",
          "data": {
            "text/plain": [
              "0.5 - 0.5*sqrt(5)"
            ],
            "text/latex": "$\\displaystyle 0.5 - 0.5 \\sqrt{5}$"
          },
          "metadata": {},
          "execution_count": 295
        }
      ]
    },
    {
      "cell_type": "code",
      "source": [
        "b= simplify(-1/(1/2 - sqrt(5)/2))\n",
        "b"
      ],
      "metadata": {
        "colab": {
          "base_uri": "https://localhost:8080/",
          "height": 39
        },
        "id": "hoW8Bs46Qk0L",
        "outputId": "e2733539-ae6f-4bf7-9c52-30658c5e7770"
      },
      "execution_count": 296,
      "outputs": [
        {
          "output_type": "execute_result",
          "data": {
            "text/plain": [
              "0.5 + 0.5*sqrt(5)"
            ],
            "text/latex": "$\\displaystyle 0.5 + 0.5 \\sqrt{5}$"
          },
          "metadata": {},
          "execution_count": 296
        }
      ]
    },
    {
      "cell_type": "code",
      "source": [
        "M = Matrix(A)\n",
        "P, D = M.diagonalize() "
      ],
      "metadata": {
        "id": "GhESsPcO6y9C"
      },
      "execution_count": 297,
      "outputs": []
    },
    {
      "cell_type": "code",
      "source": [
        "D"
      ],
      "metadata": {
        "colab": {
          "base_uri": "https://localhost:8080/",
          "height": 68
        },
        "id": "en6Hr8LM74vG",
        "outputId": "27c10082-0de0-45bb-a698-b5aeeb48ad3b"
      },
      "execution_count": 298,
      "outputs": [
        {
          "output_type": "execute_result",
          "data": {
            "text/plain": [
              "Matrix([\n",
              "[3/2 - sqrt(5)/2,               0],\n",
              "[              0, sqrt(5)/2 + 3/2]])"
            ],
            "text/latex": "$\\displaystyle \\left[\\begin{matrix}\\frac{3}{2} - \\frac{\\sqrt{5}}{2} & 0\\\\0 & \\frac{\\sqrt{5}}{2} + \\frac{3}{2}\\end{matrix}\\right]$"
          },
          "metadata": {},
          "execution_count": 298
        }
      ]
    },
    {
      "cell_type": "code",
      "source": [
        "P"
      ],
      "metadata": {
        "colab": {
          "base_uri": "https://localhost:8080/",
          "height": 61
        },
        "id": "m6tY0t1Z8JrF",
        "outputId": "3fbcff43-bbe9-4322-ed42-9e901d5e1966"
      },
      "execution_count": 299,
      "outputs": [
        {
          "output_type": "execute_result",
          "data": {
            "text/plain": [
              "Matrix([\n",
              "[1/2 - sqrt(5)/2, 1/2 + sqrt(5)/2],\n",
              "[              1,               1]])"
            ],
            "text/latex": "$\\displaystyle \\left[\\begin{matrix}\\frac{1}{2} - \\frac{\\sqrt{5}}{2} & \\frac{1}{2} + \\frac{\\sqrt{5}}{2}\\\\1 & 1\\end{matrix}\\right]$"
          },
          "metadata": {},
          "execution_count": 299
        }
      ]
    },
    {
      "cell_type": "code",
      "source": [
        "P.inv()"
      ],
      "metadata": {
        "colab": {
          "base_uri": "https://localhost:8080/",
          "height": 72
        },
        "id": "bJoSNiOc8LYp",
        "outputId": "ec275abf-d592-43a9-b159-4d484b31451b"
      },
      "execution_count": 185,
      "outputs": [
        {
          "output_type": "execute_result",
          "data": {
            "text/plain": [
              "Matrix([\n",
              "[(-1 + sqrt(5))/(-5 + sqrt(5)), 1/(5/2 - sqrt(5)/2)],\n",
              "[                    sqrt(5)/5,    1/2 - sqrt(5)/10]])"
            ],
            "text/latex": "$\\displaystyle \\left[\\begin{matrix}\\frac{-1 + \\sqrt{5}}{-5 + \\sqrt{5}} & \\frac{1}{\\frac{5}{2} - \\frac{\\sqrt{5}}{2}}\\\\\\frac{\\sqrt{5}}{5} & \\frac{1}{2} - \\frac{\\sqrt{5}}{10}\\end{matrix}\\right]$"
          },
          "metadata": {},
          "execution_count": 185
        }
      ]
    },
    {
      "cell_type": "code",
      "source": [
        "simplify(P())*P)"
      ],
      "metadata": {
        "id": "cjAyE07Xw7j-",
        "outputId": "8293709d-4404-446f-d22d-02c177d97aa7",
        "colab": {
          "base_uri": "https://localhost:8080/",
          "height": 68
        }
      },
      "execution_count": 277,
      "outputs": [
        {
          "output_type": "execute_result",
          "data": {
            "text/plain": [
              "Matrix([\n",
              "[5/2 - sqrt(5)/2,               0],\n",
              "[              0, sqrt(5)/2 + 5/2]])"
            ],
            "text/latex": "$\\displaystyle \\left[\\begin{matrix}\\frac{5}{2} - \\frac{\\sqrt{5}}{2} & 0\\\\0 & \\frac{\\sqrt{5}}{2} + \\frac{5}{2}\\end{matrix}\\right]$"
          },
          "metadata": {},
          "execution_count": 277
        }
      ]
    },
    {
      "cell_type": "code",
      "source": [
        "qr = Matrix(A).QRdecomposition()"
      ],
      "metadata": {
        "id": "IoI1467m330J"
      },
      "execution_count": 300,
      "outputs": []
    },
    {
      "cell_type": "code",
      "source": [
        "qr"
      ],
      "metadata": {
        "id": "uCPcGdt44Bri",
        "outputId": "ca534387-4a42-434b-c0f3-e1afc8e57624",
        "colab": {
          "base_uri": "https://localhost:8080/"
        }
      },
      "execution_count": 301,
      "outputs": [
        {
          "output_type": "execute_result",
          "data": {
            "text/plain": [
              "(Matrix([\n",
              " [2*sqrt(5)/5,  -sqrt(5)/5],\n",
              " [  sqrt(5)/5, 2*sqrt(5)/5]]), Matrix([\n",
              " [sqrt(5), 3*sqrt(5)/5],\n",
              " [      0,   sqrt(5)/5]]))"
            ]
          },
          "metadata": {},
          "execution_count": 301
        }
      ]
    },
    {
      "cell_type": "code",
      "source": [
        "O= Matrix([\n",
        " [2*sqrt(5)/5,  -sqrt(5)/5],\n",
        " [  sqrt(5)/5, 2*sqrt(5)/5]])"
      ],
      "metadata": {
        "id": "AKoLmREN4N2B"
      },
      "execution_count": 309,
      "outputs": []
    },
    {
      "cell_type": "code",
      "source": [
        "O"
      ],
      "metadata": {
        "id": "36854bv84RZM",
        "outputId": "6c4e5338-03af-47d0-8b6a-f672b9930ad1",
        "colab": {
          "base_uri": "https://localhost:8080/",
          "height": 68
        }
      },
      "execution_count": 310,
      "outputs": [
        {
          "output_type": "execute_result",
          "data": {
            "text/plain": [
              "Matrix([\n",
              "[2*sqrt(5)/5,  -sqrt(5)/5],\n",
              "[  sqrt(5)/5, 2*sqrt(5)/5]])"
            ],
            "text/latex": "$\\displaystyle \\left[\\begin{matrix}\\frac{2 \\sqrt{5}}{5} & - \\frac{\\sqrt{5}}{5}\\\\\\frac{\\sqrt{5}}{5} & \\frac{2 \\sqrt{5}}{5}\\end{matrix}\\right]$"
          },
          "metadata": {},
          "execution_count": 310
        }
      ]
    },
    {
      "cell_type": "code",
      "source": [
        "Transpose(O)*O"
      ],
      "metadata": {
        "id": "AsnIGeIa4hTn",
        "outputId": "de4da7a0-5c1a-429c-ce02-2caab5c56780",
        "colab": {
          "base_uri": "https://localhost:8080/",
          "height": 58
        }
      },
      "execution_count": 311,
      "outputs": [
        {
          "output_type": "execute_result",
          "data": {
            "text/plain": [
              "Matrix([\n",
              "[1, 0],\n",
              "[0, 1]])"
            ],
            "text/latex": "$\\displaystyle \\left[\\begin{matrix}1 & 0\\\\0 & 1\\end{matrix}\\right]$"
          },
          "metadata": {},
          "execution_count": 311
        }
      ]
    },
    {
      "cell_type": "code",
      "source": [
        "x1 = Symbol('x1')\n",
        "x2 = Symbol('x2')"
      ],
      "metadata": {
        "id": "ikNmjYS59j2c"
      },
      "execution_count": 312,
      "outputs": []
    },
    {
      "cell_type": "code",
      "source": [
        "X = Matrix([[x1],[x2]])"
      ],
      "metadata": {
        "id": "_s0kidO_93gA"
      },
      "execution_count": 313,
      "outputs": []
    },
    {
      "cell_type": "code",
      "source": [
        "X"
      ],
      "metadata": {
        "colab": {
          "base_uri": "https://localhost:8080/",
          "height": 58
        },
        "id": "Sv0vmd72-YBe",
        "outputId": "a32ee88d-af7f-459b-8529-d8899c702165"
      },
      "execution_count": 314,
      "outputs": [
        {
          "output_type": "execute_result",
          "data": {
            "text/plain": [
              "Matrix([\n",
              "[x1],\n",
              "[x2]])"
            ],
            "text/latex": "$\\displaystyle \\left[\\begin{matrix}x_{1}\\\\x_{2}\\end{matrix}\\right]$"
          },
          "metadata": {},
          "execution_count": 314
        }
      ]
    },
    {
      "cell_type": "code",
      "source": [
        "y = Transpose(O)*X"
      ],
      "metadata": {
        "id": "6edxymRN-ZBM"
      },
      "execution_count": 315,
      "outputs": []
    },
    {
      "cell_type": "code",
      "source": [
        "sumjj = Transpose(y)*D*y"
      ],
      "metadata": {
        "id": "ri-YXNEdUSnE"
      },
      "execution_count": 316,
      "outputs": []
    },
    {
      "cell_type": "code",
      "source": [
        "sumjj"
      ],
      "metadata": {
        "id": "JkgiHKB2ppCD",
        "outputId": "cd81b1ac-32bc-47a5-ee04-772999cfb3a6",
        "colab": {
          "base_uri": "https://localhost:8080/",
          "height": 58
        }
      },
      "execution_count": 317,
      "outputs": [
        {
          "output_type": "execute_result",
          "data": {
            "text/plain": [
              "Matrix([[(sqrt(5)/2 + 3/2)*(-sqrt(5)*x1/5 + 2*sqrt(5)*x2/5)**2 + (3/2 - sqrt(5)/2)*(2*sqrt(5)*x1/5 + sqrt(5)*x2/5)**2]])"
            ],
            "text/latex": "$\\displaystyle \\left[\\begin{matrix}\\left(\\frac{\\sqrt{5}}{2} + \\frac{3}{2}\\right) \\left(- \\frac{\\sqrt{5} x_{1}}{5} + \\frac{2 \\sqrt{5} x_{2}}{5}\\right)^{2} + \\left(\\frac{3}{2} - \\frac{\\sqrt{5}}{2}\\right) \\left(\\frac{2 \\sqrt{5} x_{1}}{5} + \\frac{\\sqrt{5} x_{2}}{5}\\right)^{2}\\end{matrix}\\right]$"
          },
          "metadata": {},
          "execution_count": 317
        }
      ]
    },
    {
      "cell_type": "code",
      "source": [
        "sumjj = simplify(sumjj)"
      ],
      "metadata": {
        "id": "-ZZQdlQ5qFOK"
      },
      "execution_count": 318,
      "outputs": []
    },
    {
      "cell_type": "code",
      "source": [
        "sumjj"
      ],
      "metadata": {
        "id": "d5xEVUwEqKEI",
        "outputId": "0ca7c5b8-bf21-4ecc-a07d-d810c0e2565e",
        "colab": {
          "base_uri": "https://localhost:8080/",
          "height": 47
        }
      },
      "execution_count": 319,
      "outputs": [
        {
          "output_type": "execute_result",
          "data": {
            "text/plain": [
              "Matrix([[(sqrt(5) + 3)*(x1 - 2*x2)**2/10 + (3 - sqrt(5))*(2*x1 + x2)**2/10]])"
            ],
            "text/latex": "$\\displaystyle \\left[\\begin{matrix}\\frac{\\left(\\sqrt{5} + 3\\right) \\left(x_{1} - 2 x_{2}\\right)^{2}}{10} + \\frac{\\left(3 - \\sqrt{5}\\right) \\left(2 x_{1} + x_{2}\\right)^{2}}{10}\\end{matrix}\\right]$"
          },
          "metadata": {},
          "execution_count": 319
        }
      ]
    },
    {
      "cell_type": "code",
      "source": [
        "intx1 = sam.integrate(exp((-1/2)*sumjj),(x1,-oo,oo))"
      ],
      "metadata": {
        "id": "UeQ8aJo9qLWy"
      },
      "execution_count": 320,
      "outputs": []
    },
    {
      "cell_type": "code",
      "source": [
        "intx1"
      ],
      "metadata": {
        "id": "lz4SKR4jqd0R",
        "outputId": "45880506-ee88-4718-8ee7-a0557924e089",
        "colab": {
          "base_uri": "https://localhost:8080/",
          "height": 47
        }
      },
      "execution_count": 321,
      "outputs": [
        {
          "output_type": "execute_result",
          "data": {
            "text/plain": [
              "Matrix([[0.776534393824027*sqrt(pi)*(2 - erfc(0.694553476582847*x2))*exp(-0.603005664791649*x2**2) + 0.776534393824027*sqrt(pi)*exp(-0.603005664791649*x2**2)*erfc(0.694553476582847*x2)]])"
            ],
            "text/latex": "$\\displaystyle \\left[\\begin{matrix}0.776534393824027 \\sqrt{\\pi} \\left(2 - \\operatorname{erfc}{\\left(0.694553476582847 x_{2} \\right)}\\right) e^{- 0.603005664791649 x_{2}^{2}} + 0.776534393824027 \\sqrt{\\pi} e^{- 0.603005664791649 x_{2}^{2}} \\operatorname{erfc}{\\left(0.694553476582847 x_{2} \\right)}\\end{matrix}\\right]$"
          },
          "metadata": {},
          "execution_count": 321
        }
      ]
    },
    {
      "cell_type": "code",
      "source": [
        "intx2 = sam.integrate(intx1,(x2,-oo,oo))"
      ],
      "metadata": {
        "id": "DIBQT0Twqq13"
      },
      "execution_count": 322,
      "outputs": []
    },
    {
      "cell_type": "code",
      "source": [
        "intx2"
      ],
      "metadata": {
        "id": "sPvH_4b3q4oo",
        "outputId": "b6d02f95-b32f-4c87-a06a-083b8831a33b",
        "colab": {
          "base_uri": "https://localhost:8080/",
          "height": 39
        }
      },
      "execution_count": 323,
      "outputs": [
        {
          "output_type": "execute_result",
          "data": {
            "text/plain": [
              "Matrix([[2.0*pi]])"
            ],
            "text/latex": "$\\displaystyle \\left[\\begin{matrix}2.0 \\pi\\end{matrix}\\right]$"
          },
          "metadata": {},
          "execution_count": 323
        }
      ]
    },
    {
      "cell_type": "code",
      "source": [
        ""
      ],
      "metadata": {
        "id": "nUyOoHOmtl4t"
      },
      "execution_count": null,
      "outputs": []
    }
  ]
}