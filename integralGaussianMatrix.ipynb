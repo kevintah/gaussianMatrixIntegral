{
  "nbformat": 4,
  "nbformat_minor": 0,
  "metadata": {
    "colab": {
      "name": "integralGaussianMatrix.ipynb",
      "provenance": [],
      "collapsed_sections": [],
      "authorship_tag": "ABX9TyMCncAuTEVGjujTpBMbVG9r",
      "include_colab_link": true
    },
    "kernelspec": {
      "name": "python3",
      "display_name": "Python 3"
    },
    "language_info": {
      "name": "python"
    }
  },
  "cells": [
    {
      "cell_type": "markdown",
      "metadata": {
        "id": "view-in-github",
        "colab_type": "text"
      },
      "source": [
        "<a href=\"https://colab.research.google.com/github/kevintah/gaussianMatrixIntegral/blob/main/integralGaussianMatrix.ipynb\" target=\"_parent\"><img src=\"https://colab.research.google.com/assets/colab-badge.svg\" alt=\"Open In Colab\"/></a>"
      ]
    },
    {
      "cell_type": "markdown",
      "source": [
        "References  \n",
        "```\n",
        "\n",
        "https://en.wikipedia.org/wiki/Common_integrals_in_quantum_field_theory\n",
        "\n",
        "https://www.youtube.com/watch?v=mUAB1a623cc&t=607s\n",
        "\n",
        "https://docs.sympy.org/latest/modules/matrices/matrices.html\n",
        "\n",
        "https://www.geeksforgeeks.org/python-sympy-matrix-diagonalize-method/\n",
        "\n",
        "https://github.com/sympy/sympy/issues/9712\n"
      ],
      "metadata": {
        "id": "NX_mfhRf9LPR"
      }
    },
    {
      "cell_type": "code",
      "execution_count": 402,
      "metadata": {
        "id": "6gLsL1nk5Xt9"
      },
      "outputs": [],
      "source": [
        "import numpy as np\n",
        "from numpy import linalg as LA\n",
        "from sympy import *\n",
        "import scipy.integrate as integrate\n",
        "import sympy as sam\n"
      ]
    },
    {
      "cell_type": "code",
      "source": [
        "import scipy as sp"
      ],
      "metadata": {
        "id": "aHK3WiT95hHl"
      },
      "execution_count": 403,
      "outputs": []
    },
    {
      "cell_type": "code",
      "source": [
        "A = [[2,1],\n",
        "     [1,1]]"
      ],
      "metadata": {
        "id": "Aw-6UcvG5mLL"
      },
      "execution_count": 404,
      "outputs": []
    },
    {
      "cell_type": "code",
      "source": [
        "Matrix(A).det()"
      ],
      "metadata": {
        "colab": {
          "base_uri": "https://localhost:8080/",
          "height": 38
        },
        "id": "PurME-9KHOq8",
        "outputId": "aebb095a-c980-4a84-b234-c22a0100bb03"
      },
      "execution_count": 405,
      "outputs": [
        {
          "output_type": "execute_result",
          "data": {
            "text/plain": [
              "1"
            ],
            "text/latex": "$\\displaystyle 1$"
          },
          "metadata": {},
          "execution_count": 405
        }
      ]
    },
    {
      "cell_type": "code",
      "source": [
        "Z = Matrix(A)\n",
        "Z.eigenvals()"
      ],
      "metadata": {
        "colab": {
          "base_uri": "https://localhost:8080/"
        },
        "id": "L03fmrq2kNX2",
        "outputId": "064208f0-d785-4196-a4bf-1a4b03078646"
      },
      "execution_count": 597,
      "outputs": [
        {
          "output_type": "execute_result",
          "data": {
            "text/plain": [
              "{3/2 - sqrt(5)/2: 1, sqrt(5)/2 + 3/2: 1}"
            ]
          },
          "metadata": {},
          "execution_count": 597
        }
      ]
    },
    {
      "cell_type": "code",
      "source": [
        "\n",
        "vects =Z.eigenvects()\n",
        "vects"
      ],
      "metadata": {
        "id": "VhGOEBan5_0K",
        "colab": {
          "base_uri": "https://localhost:8080/"
        },
        "outputId": "8b742952-55ca-4104-c529-71c090899c96"
      },
      "execution_count": 662,
      "outputs": [
        {
          "output_type": "execute_result",
          "data": {
            "text/plain": [
              "[(3/2 - sqrt(5)/2, 1, [Matrix([\n",
              "   [-1/(1/2 + sqrt(5)/2)],\n",
              "   [                   1]])]), (sqrt(5)/2 + 3/2, 1, [Matrix([\n",
              "   [-1/(1/2 - sqrt(5)/2)],\n",
              "   [                   1]])])]"
            ]
          },
          "metadata": {},
          "execution_count": 662
        }
      ]
    },
    {
      "cell_type": "code",
      "source": [
        "Matrix([\n",
        "   [-1/(1/2 + sqrt(5)/2), -1/(1/2 - sqrt(5)/2)],\n",
        "   [                   1, 1]])"
      ],
      "metadata": {
        "colab": {
          "base_uri": "https://localhost:8080/",
          "height": 68
        },
        "id": "3_16bE3A6yBt",
        "outputId": "138a6b4a-c014-4864-d87c-0f2f13c04573"
      },
      "execution_count": 670,
      "outputs": [
        {
          "output_type": "execute_result",
          "data": {
            "text/plain": [
              "Matrix([\n",
              "[-1/(0.5 + sqrt(5)/2), -1/(0.5 - sqrt(5)/2)],\n",
              "[                   1,                    1]])"
            ],
            "text/latex": "$\\displaystyle \\left[\\begin{matrix}- \\frac{1}{0.5 + \\frac{\\sqrt{5}}{2}} & - \\frac{1}{0.5 - \\frac{\\sqrt{5}}{2}}\\\\1 & 1\\end{matrix}\\right]$"
          },
          "metadata": {},
          "execution_count": 670
        }
      ]
    },
    {
      "cell_type": "code",
      "source": [
        "a =simplify(-1/(1/2 + sqrt(5)/2))\n",
        "a"
      ],
      "metadata": {
        "colab": {
          "base_uri": "https://localhost:8080/",
          "height": 39
        },
        "id": "o0x_zrxVRjJy",
        "outputId": "ff7cacad-af56-4138-82d6-33cfc2136d5d"
      },
      "execution_count": 668,
      "outputs": [
        {
          "output_type": "execute_result",
          "data": {
            "text/plain": [
              "0.5 - 0.5*sqrt(5)"
            ],
            "text/latex": "$\\displaystyle 0.5 - 0.5 \\sqrt{5}$"
          },
          "metadata": {},
          "execution_count": 668
        }
      ]
    },
    {
      "cell_type": "code",
      "source": [
        "b= simplify(-1/(1/2 - sqrt(5)/2))\n",
        "b"
      ],
      "metadata": {
        "colab": {
          "base_uri": "https://localhost:8080/",
          "height": 39
        },
        "id": "hoW8Bs46Qk0L",
        "outputId": "b02aaeb6-a952-4581-cd86-a443137b12a5"
      },
      "execution_count": 669,
      "outputs": [
        {
          "output_type": "execute_result",
          "data": {
            "text/plain": [
              "0.5 + 0.5*sqrt(5)"
            ],
            "text/latex": "$\\displaystyle 0.5 + 0.5 \\sqrt{5}$"
          },
          "metadata": {},
          "execution_count": 669
        }
      ]
    },
    {
      "cell_type": "code",
      "source": [
        "M = Matrix(A)\n",
        "P, D = M.diagonalize() "
      ],
      "metadata": {
        "id": "GhESsPcO6y9C"
      },
      "execution_count": 609,
      "outputs": []
    },
    {
      "cell_type": "code",
      "source": [
        "D"
      ],
      "metadata": {
        "colab": {
          "base_uri": "https://localhost:8080/",
          "height": 68
        },
        "id": "en6Hr8LM74vG",
        "outputId": "fc9e1f1c-9cec-494f-c4b2-bbabc9dd29d7"
      },
      "execution_count": 610,
      "outputs": [
        {
          "output_type": "execute_result",
          "data": {
            "text/plain": [
              "Matrix([\n",
              "[3/2 - sqrt(5)/2,               0],\n",
              "[              0, sqrt(5)/2 + 3/2]])"
            ],
            "text/latex": "$\\displaystyle \\left[\\begin{matrix}\\frac{3}{2} - \\frac{\\sqrt{5}}{2} & 0\\\\0 & \\frac{\\sqrt{5}}{2} + \\frac{3}{2}\\end{matrix}\\right]$"
          },
          "metadata": {},
          "execution_count": 610
        }
      ]
    },
    {
      "cell_type": "code",
      "source": [
        "P"
      ],
      "metadata": {
        "colab": {
          "base_uri": "https://localhost:8080/",
          "height": 61
        },
        "id": "m6tY0t1Z8JrF",
        "outputId": "78b4561d-5a02-4660-eacb-7b8bae7ca347"
      },
      "execution_count": 611,
      "outputs": [
        {
          "output_type": "execute_result",
          "data": {
            "text/plain": [
              "Matrix([\n",
              "[1/2 - sqrt(5)/2, 1/2 + sqrt(5)/2],\n",
              "[              1,               1]])"
            ],
            "text/latex": "$\\displaystyle \\left[\\begin{matrix}\\frac{1}{2} - \\frac{\\sqrt{5}}{2} & \\frac{1}{2} + \\frac{\\sqrt{5}}{2}\\\\1 & 1\\end{matrix}\\right]$"
          },
          "metadata": {},
          "execution_count": 611
        }
      ]
    },
    {
      "cell_type": "code",
      "source": [
        "P.inv()"
      ],
      "metadata": {
        "colab": {
          "base_uri": "https://localhost:8080/",
          "height": 72
        },
        "id": "bJoSNiOc8LYp",
        "outputId": "1c6d6e00-484e-401b-d1b3-74fd3d28ba76"
      },
      "execution_count": 612,
      "outputs": [
        {
          "output_type": "execute_result",
          "data": {
            "text/plain": [
              "Matrix([\n",
              "[(-1 + sqrt(5))/(-5 + sqrt(5)), 1/(5/2 - sqrt(5)/2)],\n",
              "[                    sqrt(5)/5,    1/2 - sqrt(5)/10]])"
            ],
            "text/latex": "$\\displaystyle \\left[\\begin{matrix}\\frac{-1 + \\sqrt{5}}{-5 + \\sqrt{5}} & \\frac{1}{\\frac{5}{2} - \\frac{\\sqrt{5}}{2}}\\\\\\frac{\\sqrt{5}}{5} & \\frac{1}{2} - \\frac{\\sqrt{5}}{10}\\end{matrix}\\right]$"
          },
          "metadata": {},
          "execution_count": 612
        }
      ]
    },
    {
      "cell_type": "code",
      "source": [
        "O = Matrix([\n",
        "   [simplify(-1/(1/2 + sqrt(5)/2)), simplify(-1/(1/2 - sqrt(5)/2))],\n",
        "   [                   1, 1]])"
      ],
      "metadata": {
        "id": "V8_idSsC7dnf"
      },
      "execution_count": 673,
      "outputs": []
    },
    {
      "cell_type": "code",
      "source": [
        "O"
      ],
      "metadata": {
        "colab": {
          "base_uri": "https://localhost:8080/",
          "height": 59
        },
        "id": "4YPPf8-5g8c0",
        "outputId": "316c855d-0c3b-47b1-97d5-d5265e568ed8"
      },
      "execution_count": 674,
      "outputs": [
        {
          "output_type": "execute_result",
          "data": {
            "text/plain": [
              "Matrix([\n",
              "[0.5 - 0.5*sqrt(5), 0.5 + 0.5*sqrt(5)],\n",
              "[                1,                 1]])"
            ],
            "text/latex": "$\\displaystyle \\left[\\begin{matrix}0.5 - 0.5 \\sqrt{5} & 0.5 + 0.5 \\sqrt{5}\\\\1 & 1\\end{matrix}\\right]$"
          },
          "metadata": {},
          "execution_count": 674
        }
      ]
    },
    {
      "cell_type": "code",
      "source": [
        "x = Symbol('x')"
      ],
      "metadata": {
        "id": "ikNmjYS59j2c"
      },
      "execution_count": 675,
      "outputs": []
    },
    {
      "cell_type": "code",
      "source": [
        "M2 = Matrix([[x],[x]])"
      ],
      "metadata": {
        "id": "_s0kidO_93gA"
      },
      "execution_count": 677,
      "outputs": []
    },
    {
      "cell_type": "code",
      "source": [
        "M2"
      ],
      "metadata": {
        "colab": {
          "base_uri": "https://localhost:8080/",
          "height": 58
        },
        "id": "Sv0vmd72-YBe",
        "outputId": "b9c23ea7-e6ce-4b23-d281-57f08519d4e2"
      },
      "execution_count": 678,
      "outputs": [
        {
          "output_type": "execute_result",
          "data": {
            "text/plain": [
              "Matrix([\n",
              "[x],\n",
              "[x]])"
            ],
            "text/latex": "$\\displaystyle \\left[\\begin{matrix}x\\\\x\\end{matrix}\\right]$"
          },
          "metadata": {},
          "execution_count": 678
        }
      ]
    },
    {
      "cell_type": "code",
      "source": [
        "y = Transpose(P)*M2"
      ],
      "metadata": {
        "id": "6edxymRN-ZBM"
      },
      "execution_count": 682,
      "outputs": []
    },
    {
      "cell_type": "code",
      "source": [
        "y"
      ],
      "metadata": {
        "colab": {
          "base_uri": "https://localhost:8080/",
          "height": 79
        },
        "id": "wTAht8qOfuku",
        "outputId": "5fb7b1bb-4c89-47ed-f7c4-dc53cbad7ebb"
      },
      "execution_count": 683,
      "outputs": [
        {
          "output_type": "execute_result",
          "data": {
            "text/plain": [
              "Matrix([\n",
              "[x*(1/2 - sqrt(5)/2) + x],\n",
              "[x + x*(1/2 + sqrt(5)/2)]])"
            ],
            "text/latex": "$\\displaystyle \\left[\\begin{matrix}x \\left(\\frac{1}{2} - \\frac{\\sqrt{5}}{2}\\right) + x\\\\x + x \\left(\\frac{1}{2} + \\frac{\\sqrt{5}}{2}\\right)\\end{matrix}\\right]$"
          },
          "metadata": {},
          "execution_count": 683
        }
      ]
    },
    {
      "cell_type": "code",
      "source": [
        "simplify(y)"
      ],
      "metadata": {
        "colab": {
          "base_uri": "https://localhost:8080/",
          "height": 79
        },
        "id": "1oJ5lferuYiR",
        "outputId": "ffa6182b-ba05-4a2b-ad6b-66fec0309a48"
      },
      "execution_count": 684,
      "outputs": [
        {
          "output_type": "execute_result",
          "data": {
            "text/plain": [
              "Matrix([\n",
              "[x*(3 - sqrt(5))/2],\n",
              "[x*(sqrt(5) + 3)/2]])"
            ],
            "text/latex": "$\\displaystyle \\left[\\begin{matrix}\\frac{x \\left(3 - \\sqrt{5}\\right)}{2}\\\\\\frac{x \\left(\\sqrt{5} + 3\\right)}{2}\\end{matrix}\\right]$"
          },
          "metadata": {},
          "execution_count": 684
        }
      ]
    },
    {
      "cell_type": "code",
      "source": [
        "y2 = y*Transpose(y)"
      ],
      "metadata": {
        "id": "_tPX-UGYucWl"
      },
      "execution_count": 685,
      "outputs": []
    },
    {
      "cell_type": "code",
      "source": [
        "y2"
      ],
      "metadata": {
        "colab": {
          "base_uri": "https://localhost:8080/",
          "height": 89
        },
        "id": "8ws9Le3yvsKR",
        "outputId": "d01e260d-11bf-449a-b72a-b3f3028c9c4c"
      },
      "execution_count": 686,
      "outputs": [
        {
          "output_type": "execute_result",
          "data": {
            "text/plain": [
              "Matrix([\n",
              "[                       (x*(1/2 - sqrt(5)/2) + x)**2, (x + x*(1/2 + sqrt(5)/2))*(x*(1/2 - sqrt(5)/2) + x)],\n",
              "[(x + x*(1/2 + sqrt(5)/2))*(x*(1/2 - sqrt(5)/2) + x),                        (x + x*(1/2 + sqrt(5)/2))**2]])"
            ],
            "text/latex": "$\\displaystyle \\left[\\begin{matrix}\\left(x \\left(\\frac{1}{2} - \\frac{\\sqrt{5}}{2}\\right) + x\\right)^{2} & \\left(x + x \\left(\\frac{1}{2} + \\frac{\\sqrt{5}}{2}\\right)\\right) \\left(x \\left(\\frac{1}{2} - \\frac{\\sqrt{5}}{2}\\right) + x\\right)\\\\\\left(x + x \\left(\\frac{1}{2} + \\frac{\\sqrt{5}}{2}\\right)\\right) \\left(x \\left(\\frac{1}{2} - \\frac{\\sqrt{5}}{2}\\right) + x\\right) & \\left(x + x \\left(\\frac{1}{2} + \\frac{\\sqrt{5}}{2}\\right)\\right)^{2}\\end{matrix}\\right]$"
          },
          "metadata": {},
          "execution_count": 686
        }
      ]
    },
    {
      "cell_type": "code",
      "source": [
        "y2=simplify(y2)"
      ],
      "metadata": {
        "id": "d8mV3m1Vvs4W"
      },
      "execution_count": 688,
      "outputs": []
    },
    {
      "cell_type": "code",
      "source": [
        "y2"
      ],
      "metadata": {
        "colab": {
          "base_uri": "https://localhost:8080/",
          "height": 79
        },
        "id": "bsbHC595vvXH",
        "outputId": "14e1208f-6222-4aae-dac7-f6be4eeb267b"
      },
      "execution_count": 689,
      "outputs": [
        {
          "output_type": "execute_result",
          "data": {
            "text/plain": [
              "Matrix([\n",
              "[x**2*(3 - sqrt(5))**2/4,                    x**2],\n",
              "[                   x**2, x**2*(sqrt(5) + 3)**2/4]])"
            ],
            "text/latex": "$\\displaystyle \\left[\\begin{matrix}\\frac{x^{2} \\left(3 - \\sqrt{5}\\right)^{2}}{4} & x^{2}\\\\x^{2} & \\frac{x^{2} \\left(\\sqrt{5} + 3\\right)^{2}}{4}\\end{matrix}\\right]$"
          },
          "metadata": {},
          "execution_count": 689
        }
      ]
    },
    {
      "cell_type": "code",
      "source": [
        "E = D*y2"
      ],
      "metadata": {
        "id": "c56ttwXhvzNu"
      },
      "execution_count": 690,
      "outputs": []
    },
    {
      "cell_type": "code",
      "source": [
        "E"
      ],
      "metadata": {
        "colab": {
          "base_uri": "https://localhost:8080/",
          "height": 90
        },
        "id": "-Z84z4sAwHKJ",
        "outputId": "e3d4b65d-1f9c-4692-efb6-0794d4694ed0"
      },
      "execution_count": 691,
      "outputs": [
        {
          "output_type": "execute_result",
          "data": {
            "text/plain": [
              "Matrix([\n",
              "[x**2*(3/2 - sqrt(5)/2)*(3 - sqrt(5))**2/4,                    x**2*(3/2 - sqrt(5)/2)],\n",
              "[                   x**2*(sqrt(5)/2 + 3/2), x**2*(sqrt(5)/2 + 3/2)*(sqrt(5) + 3)**2/4]])"
            ],
            "text/latex": "$\\displaystyle \\left[\\begin{matrix}\\frac{x^{2} \\left(\\frac{3}{2} - \\frac{\\sqrt{5}}{2}\\right) \\left(3 - \\sqrt{5}\\right)^{2}}{4} & x^{2} \\left(\\frac{3}{2} - \\frac{\\sqrt{5}}{2}\\right)\\\\x^{2} \\left(\\frac{\\sqrt{5}}{2} + \\frac{3}{2}\\right) & \\frac{x^{2} \\left(\\frac{\\sqrt{5}}{2} + \\frac{3}{2}\\right) \\left(\\sqrt{5} + 3\\right)^{2}}{4}\\end{matrix}\\right]$"
          },
          "metadata": {},
          "execution_count": 691
        }
      ]
    },
    {
      "cell_type": "code",
      "source": [
        "E2 = simplify(E)"
      ],
      "metadata": {
        "id": "99yRAZG7wIT0"
      },
      "execution_count": 693,
      "outputs": []
    },
    {
      "cell_type": "code",
      "source": [
        "E2.apart"
      ],
      "metadata": {
        "colab": {
          "base_uri": "https://localhost:8080/"
        },
        "id": "ffQZ0DBUwL0R",
        "outputId": "cfc57b23-911a-4b24-c7a3-cb6fd4c8d37c"
      },
      "execution_count": 694,
      "outputs": [
        {
          "output_type": "execute_result",
          "data": {
            "text/plain": [
              "<bound method Expr.apart of Matrix([\n",
              "[x**2*(9 - 4*sqrt(5)), x**2*(3 - sqrt(5))/2],\n",
              "[x**2*(sqrt(5) + 3)/2, x**2*(4*sqrt(5) + 9)]])>"
            ]
          },
          "metadata": {},
          "execution_count": 694
        }
      ]
    },
    {
      "cell_type": "code",
      "source": [
        "sumjj = x**2*(9 - 4*sqrt(5)) + x**2*(4*sqrt(5) + 9)"
      ],
      "metadata": {
        "id": "OahwhSxIxBtH"
      },
      "execution_count": 695,
      "outputs": []
    },
    {
      "cell_type": "code",
      "source": [
        "sumjj"
      ],
      "metadata": {
        "colab": {
          "base_uri": "https://localhost:8080/",
          "height": 47
        },
        "id": "yWsQRMu8xM6I",
        "outputId": "5b50f479-d8f3-4393-d0e9-b3738ca68011"
      },
      "execution_count": 696,
      "outputs": [
        {
          "output_type": "execute_result",
          "data": {
            "text/plain": [
              "x**2*(9 - 4*sqrt(5)) + x**2*(4*sqrt(5) + 9)"
            ],
            "text/latex": "$\\displaystyle x^{2} \\left(9 - 4 \\sqrt{5}\\right) + x^{2} \\left(4 \\sqrt{5} + 9\\right)$"
          },
          "metadata": {},
          "execution_count": 696
        }
      ]
    },
    {
      "cell_type": "code",
      "source": [
        "sumjj =simplify(sumjj)"
      ],
      "metadata": {
        "id": "PBiyPsIexNtN"
      },
      "execution_count": 698,
      "outputs": []
    },
    {
      "cell_type": "code",
      "source": [
        "sumjj"
      ],
      "metadata": {
        "colab": {
          "base_uri": "https://localhost:8080/",
          "height": 39
        },
        "id": "B8NjykQ5xQSk",
        "outputId": "67b4f756-fd50-4753-d388-540f18c4f5b8"
      },
      "execution_count": 699,
      "outputs": [
        {
          "output_type": "execute_result",
          "data": {
            "text/plain": [
              "18*x**2"
            ],
            "text/latex": "$\\displaystyle 18 x^{2}$"
          },
          "metadata": {},
          "execution_count": 699
        }
      ]
    },
    {
      "cell_type": "code",
      "source": [
        "sam.integrate( exp(-(1/2)* sumjj), (x,0,oo))"
      ],
      "metadata": {
        "colab": {
          "base_uri": "https://localhost:8080/",
          "height": 38
        },
        "id": "K8pkoPNZxisg",
        "outputId": "8c1cfe0c-4796-48d7-f462-58d918c8d8a9"
      },
      "execution_count": 706,
      "outputs": [
        {
          "output_type": "execute_result",
          "data": {
            "text/plain": [
              "0.166666666666667*sqrt(pi)"
            ],
            "text/latex": "$\\displaystyle 0.166666666666667 \\sqrt{\\pi}$"
          },
          "metadata": {},
          "execution_count": 706
        }
      ]
    },
    {
      "cell_type": "code",
      "source": [
        ""
      ],
      "metadata": {
        "id": "V4vnZ5Gvxvgo"
      },
      "execution_count": null,
      "outputs": []
    }
  ]
}