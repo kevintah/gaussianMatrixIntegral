{
  "nbformat": 4,
  "nbformat_minor": 0,
  "metadata": {
    "colab": {
      "name": "integralGaussianMatrix.ipynb",
      "provenance": [],
      "collapsed_sections": [],
      "authorship_tag": "ABX9TyNps8okwdmqbLHZa9WcMpVl",
      "include_colab_link": true
    },
    "kernelspec": {
      "name": "python3",
      "display_name": "Python 3"
    },
    "language_info": {
      "name": "python"
    }
  },
  "cells": [
    {
      "cell_type": "markdown",
      "metadata": {
        "id": "view-in-github",
        "colab_type": "text"
      },
      "source": [
        "<a href=\"https://colab.research.google.com/github/kevintah/gaussianMatrixIntegral/blob/main/integralGaussianMatrix.ipynb\" target=\"_parent\"><img src=\"https://colab.research.google.com/assets/colab-badge.svg\" alt=\"Open In Colab\"/></a>"
      ]
    },
    {
      "cell_type": "markdown",
      "source": [
        "References  \n",
        "```\n",
        "\n",
        "https://en.wikipedia.org/wiki/Common_integrals_in_quantum_field_theory\n",
        "\n",
        "https://www.youtube.com/watch?v=mUAB1a623cc&t=607s\n",
        "\n",
        "https://docs.sympy.org/latest/modules/matrices/matrices.html\n",
        "\n",
        "https://www.geeksforgeeks.org/python-sympy-matrix-diagonalize-method/\n",
        "\n",
        "https://github.com/sympy/sympy/issues/9712\n"
      ],
      "metadata": {
        "id": "NX_mfhRf9LPR"
      }
    },
    {
      "cell_type": "code",
      "execution_count": 402,
      "metadata": {
        "id": "6gLsL1nk5Xt9"
      },
      "outputs": [],
      "source": [
        "import numpy as np\n",
        "from numpy import linalg as LA\n",
        "from sympy import *\n",
        "import scipy.integrate as integrate\n",
        "import sympy as sam\n"
      ]
    },
    {
      "cell_type": "code",
      "source": [
        "import scipy as sp"
      ],
      "metadata": {
        "id": "aHK3WiT95hHl"
      },
      "execution_count": 403,
      "outputs": []
    },
    {
      "cell_type": "code",
      "source": [
        "A = [[2,1],\n",
        "     [1,1]]"
      ],
      "metadata": {
        "id": "Aw-6UcvG5mLL"
      },
      "execution_count": 404,
      "outputs": []
    },
    {
      "cell_type": "code",
      "source": [
        "Matrix(A).det()"
      ],
      "metadata": {
        "colab": {
          "base_uri": "https://localhost:8080/",
          "height": 38
        },
        "id": "PurME-9KHOq8",
        "outputId": "aebb095a-c980-4a84-b234-c22a0100bb03"
      },
      "execution_count": 405,
      "outputs": [
        {
          "output_type": "execute_result",
          "data": {
            "text/plain": [
              "1"
            ],
            "text/latex": "$\\displaystyle 1$"
          },
          "metadata": {},
          "execution_count": 405
        }
      ]
    },
    {
      "cell_type": "code",
      "source": [
        "Z = Matrix(A)\n",
        "vects =Z.eigenvects()\n",
        "vects"
      ],
      "metadata": {
        "id": "VhGOEBan5_0K",
        "colab": {
          "base_uri": "https://localhost:8080/"
        },
        "outputId": "99a58d86-fcb9-47de-8f7d-24ea693369c6"
      },
      "execution_count": 486,
      "outputs": [
        {
          "output_type": "execute_result",
          "data": {
            "text/plain": [
              "[(3/2 - sqrt(5)/2, 1, [Matrix([\n",
              "   [-1/(1/2 + sqrt(5)/2)],\n",
              "   [                   1]])]), (sqrt(5)/2 + 3/2, 1, [Matrix([\n",
              "   [-1/(1/2 - sqrt(5)/2)],\n",
              "   [                   1]])])]"
            ]
          },
          "metadata": {},
          "execution_count": 486
        }
      ]
    },
    {
      "cell_type": "code",
      "source": [
        "Matrix([\n",
        "   [-1/(1/2 + sqrt(5)/2), -1/(1/2 - sqrt(5)/2)],\n",
        "   [                   1, 1]])"
      ],
      "metadata": {
        "colab": {
          "base_uri": "https://localhost:8080/",
          "height": 68
        },
        "id": "3_16bE3A6yBt",
        "outputId": "61de41a9-2f2d-49ed-e455-bcb9856075ba"
      },
      "execution_count": 464,
      "outputs": [
        {
          "output_type": "execute_result",
          "data": {
            "text/plain": [
              "Matrix([\n",
              "[-1/(0.5 + sqrt(5)/2), -1/(0.5 - sqrt(5)/2)],\n",
              "[                   1,                    1]])"
            ],
            "text/latex": "$\\displaystyle \\left[\\begin{matrix}- \\frac{1}{0.5 + \\frac{\\sqrt{5}}{2}} & - \\frac{1}{0.5 - \\frac{\\sqrt{5}}{2}}\\\\1 & 1\\end{matrix}\\right]$"
          },
          "metadata": {},
          "execution_count": 464
        }
      ]
    },
    {
      "cell_type": "code",
      "source": [
        "a =simplify(-1/(1/2 + sqrt(5)/2))\n",
        "a"
      ],
      "metadata": {
        "colab": {
          "base_uri": "https://localhost:8080/",
          "height": 39
        },
        "id": "o0x_zrxVRjJy",
        "outputId": "902336cc-4923-453c-a1b6-513d03baee4f"
      },
      "execution_count": 487,
      "outputs": [
        {
          "output_type": "execute_result",
          "data": {
            "text/plain": [
              "0.5 - 0.5*sqrt(5)"
            ],
            "text/latex": "$\\displaystyle 0.5 - 0.5 \\sqrt{5}$"
          },
          "metadata": {},
          "execution_count": 487
        }
      ]
    },
    {
      "cell_type": "code",
      "source": [
        "b= simplify(-1/(1/2 - sqrt(5)/2))\n",
        "b"
      ],
      "metadata": {
        "colab": {
          "base_uri": "https://localhost:8080/",
          "height": 39
        },
        "id": "hoW8Bs46Qk0L",
        "outputId": "56a1a433-b077-47f9-f83c-8b5276d83a09"
      },
      "execution_count": 488,
      "outputs": [
        {
          "output_type": "execute_result",
          "data": {
            "text/plain": [
              "0.5 + 0.5*sqrt(5)"
            ],
            "text/latex": "$\\displaystyle 0.5 + 0.5 \\sqrt{5}$"
          },
          "metadata": {},
          "execution_count": 488
        }
      ]
    },
    {
      "cell_type": "code",
      "source": [
        "Length1 =sqrt((1/(1/2 - sqrt(5)/2))**2 + 1**2)"
      ],
      "metadata": {
        "id": "7QIR_6GmPF_s"
      },
      "execution_count": 492,
      "outputs": []
    },
    {
      "cell_type": "code",
      "source": [
        "Length1"
      ],
      "metadata": {
        "colab": {
          "base_uri": "https://localhost:8080/",
          "height": 75
        },
        "id": "xCCsWhSEPFvf",
        "outputId": "20b7525b-c37e-45c0-b51a-b0ae1f93e63e"
      },
      "execution_count": 482,
      "outputs": [
        {
          "output_type": "execute_result",
          "data": {
            "text/plain": [
              "sqrt(1 + (0.5 - sqrt(5)/2)**(-2))"
            ],
            "text/latex": "$\\displaystyle \\sqrt{1 + \\frac{1}{\\left(0.5 - \\frac{\\sqrt{5}}{2}\\right)^{2}}}$"
          },
          "metadata": {},
          "execution_count": 482
        }
      ]
    },
    {
      "cell_type": "code",
      "source": [
        "Length2 =sqrt(-(1/(1/2 + sqrt(5)/2))**2 + 1**2)"
      ],
      "metadata": {
        "id": "0dg6d-dAWxEp"
      },
      "execution_count": 493,
      "outputs": []
    },
    {
      "cell_type": "code",
      "source": [
        "Length2"
      ],
      "metadata": {
        "colab": {
          "base_uri": "https://localhost:8080/",
          "height": 75
        },
        "id": "TGwPkdIoXL0s",
        "outputId": "7afcc696-2ec9-44a2-d6ea-35346b4a273c"
      },
      "execution_count": 494,
      "outputs": [
        {
          "output_type": "execute_result",
          "data": {
            "text/plain": [
              "sqrt(1 - 1/(0.5 + sqrt(5)/2)**2)"
            ],
            "text/latex": "$\\displaystyle \\sqrt{1 - \\frac{1}{\\left(0.5 + \\frac{\\sqrt{5}}{2}\\right)^{2}}}$"
          },
          "metadata": {},
          "execution_count": 494
        }
      ]
    },
    {
      "cell_type": "code",
      "source": [
        "simplify(Length1)"
      ],
      "metadata": {
        "colab": {
          "base_uri": "https://localhost:8080/",
          "height": 75
        },
        "id": "Kx1jrRCnPFLk",
        "outputId": "a6e8d521-b34e-4ddc-dd4a-7d83956d3859"
      },
      "execution_count": 495,
      "outputs": [
        {
          "output_type": "execute_result",
          "data": {
            "text/plain": [
              "sqrt(1 + (0.5 - sqrt(5)/2)**(-2))"
            ],
            "text/latex": "$\\displaystyle \\sqrt{1 + \\frac{1}{\\left(0.5 - \\frac{\\sqrt{5}}{2}\\right)^{2}}}$"
          },
          "metadata": {},
          "execution_count": 495
        }
      ]
    },
    {
      "cell_type": "code",
      "source": [
        "M = Matrix(A)\n",
        "P, D = M.diagonalize() "
      ],
      "metadata": {
        "id": "GhESsPcO6y9C"
      },
      "execution_count": 484,
      "outputs": []
    },
    {
      "cell_type": "code",
      "source": [
        "D"
      ],
      "metadata": {
        "colab": {
          "base_uri": "https://localhost:8080/",
          "height": 68
        },
        "id": "en6Hr8LM74vG",
        "outputId": "03f545e1-047b-4b12-e474-5e6aee40e485"
      },
      "execution_count": 485,
      "outputs": [
        {
          "output_type": "execute_result",
          "data": {
            "text/plain": [
              "Matrix([\n",
              "[3/2 - sqrt(5)/2,               0],\n",
              "[              0, sqrt(5)/2 + 3/2]])"
            ],
            "text/latex": "$\\displaystyle \\left[\\begin{matrix}\\frac{3}{2} - \\frac{\\sqrt{5}}{2} & 0\\\\0 & \\frac{\\sqrt{5}}{2} + \\frac{3}{2}\\end{matrix}\\right]$"
          },
          "metadata": {},
          "execution_count": 485
        }
      ]
    },
    {
      "cell_type": "code",
      "source": [
        "P"
      ],
      "metadata": {
        "colab": {
          "base_uri": "https://localhost:8080/",
          "height": 61
        },
        "id": "m6tY0t1Z8JrF",
        "outputId": "fd7e29ea-a9c7-4182-ddbb-6685283730fb"
      },
      "execution_count": 410,
      "outputs": [
        {
          "output_type": "execute_result",
          "data": {
            "text/plain": [
              "Matrix([\n",
              "[1/2 - sqrt(5)/2, 1/2 + sqrt(5)/2],\n",
              "[              1,               1]])"
            ],
            "text/latex": "$\\displaystyle \\left[\\begin{matrix}\\frac{1}{2} - \\frac{\\sqrt{5}}{2} & \\frac{1}{2} + \\frac{\\sqrt{5}}{2}\\\\1 & 1\\end{matrix}\\right]$"
          },
          "metadata": {},
          "execution_count": 410
        }
      ]
    },
    {
      "cell_type": "code",
      "source": [
        "P.inv()"
      ],
      "metadata": {
        "colab": {
          "base_uri": "https://localhost:8080/",
          "height": 72
        },
        "id": "bJoSNiOc8LYp",
        "outputId": "382e50b8-a31d-4af9-8aa4-6fe4f4f9063b"
      },
      "execution_count": 411,
      "outputs": [
        {
          "output_type": "execute_result",
          "data": {
            "text/plain": [
              "Matrix([\n",
              "[(-1 + sqrt(5))/(-5 + sqrt(5)), 1/(5/2 - sqrt(5)/2)],\n",
              "[                    sqrt(5)/5,    1/2 - sqrt(5)/10]])"
            ],
            "text/latex": "$\\displaystyle \\left[\\begin{matrix}\\frac{-1 + \\sqrt{5}}{-5 + \\sqrt{5}} & \\frac{1}{\\frac{5}{2} - \\frac{\\sqrt{5}}{2}}\\\\\\frac{\\sqrt{5}}{5} & \\frac{1}{2} - \\frac{\\sqrt{5}}{10}\\end{matrix}\\right]$"
          },
          "metadata": {},
          "execution_count": 411
        }
      ]
    },
    {
      "cell_type": "code",
      "source": [
        "O = Matrix([\n",
        "   [     1,                  a],\n",
        "   [  -b ,                    1]])\n",
        "O"
      ],
      "metadata": {
        "colab": {
          "base_uri": "https://localhost:8080/",
          "height": 60
        },
        "id": "V8_idSsC7dnf",
        "outputId": "205a142c-1e44-4594-f225-6e31028a8be6"
      },
      "execution_count": 463,
      "outputs": [
        {
          "output_type": "execute_result",
          "data": {
            "text/plain": [
              "Matrix([\n",
              "[                1, 0.5 + 0.5*sqrt(5)],\n",
              "[0.5 - 0.5*sqrt(5),                 1]])"
            ],
            "text/latex": "$\\displaystyle \\left[\\begin{matrix}1 & 0.5 + 0.5 \\sqrt{5}\\\\0.5 - 0.5 \\sqrt{5} & 1\\end{matrix}\\right]$"
          },
          "metadata": {},
          "execution_count": 463
        }
      ]
    },
    {
      "cell_type": "code",
      "source": [
        "M1 = sam.Transpose(O)"
      ],
      "metadata": {
        "id": "Bz2rnqwKu6CD"
      },
      "execution_count": 413,
      "outputs": []
    },
    {
      "cell_type": "code",
      "source": [
        "M1"
      ],
      "metadata": {
        "colab": {
          "base_uri": "https://localhost:8080/",
          "height": 77
        },
        "id": "n1tea7zN9i14",
        "outputId": "82851b00-2def-4f20-912f-e64500338ad7"
      },
      "execution_count": 414,
      "outputs": [
        {
          "output_type": "execute_result",
          "data": {
            "text/plain": [
              "Matrix([\n",
              "[                   1, 1/(0.5 + sqrt(5)/2)],\n",
              "[-1/(0.5 - sqrt(5)/2),                   1]]).T"
            ],
            "text/latex": "$\\displaystyle \\left(\\left[\\begin{matrix}1 & \\frac{1}{0.5 + \\frac{\\sqrt{5}}{2}}\\\\- \\frac{1}{0.5 - \\frac{\\sqrt{5}}{2}} & 1\\end{matrix}\\right]\\right)^{T}$"
          },
          "metadata": {},
          "execution_count": 414
        }
      ]
    },
    {
      "cell_type": "code",
      "source": [
        "x = Symbol('x')"
      ],
      "metadata": {
        "id": "ikNmjYS59j2c"
      },
      "execution_count": 415,
      "outputs": []
    },
    {
      "cell_type": "code",
      "source": [
        "y = Symbol('y')"
      ],
      "metadata": {
        "id": "IGYEV6Js9yQW"
      },
      "execution_count": 416,
      "outputs": []
    },
    {
      "cell_type": "code",
      "source": [
        "M2 = Matrix([[x],[x]])"
      ],
      "metadata": {
        "id": "_s0kidO_93gA"
      },
      "execution_count": 417,
      "outputs": []
    },
    {
      "cell_type": "code",
      "source": [
        "M2"
      ],
      "metadata": {
        "colab": {
          "base_uri": "https://localhost:8080/",
          "height": 58
        },
        "id": "Sv0vmd72-YBe",
        "outputId": "3f6314cd-2a19-451c-f468-b172f1b90cd6"
      },
      "execution_count": 418,
      "outputs": [
        {
          "output_type": "execute_result",
          "data": {
            "text/plain": [
              "Matrix([\n",
              "[x],\n",
              "[x]])"
            ],
            "text/latex": "$\\displaystyle \\left[\\begin{matrix}x\\\\x\\end{matrix}\\right]$"
          },
          "metadata": {},
          "execution_count": 418
        }
      ]
    },
    {
      "cell_type": "code",
      "source": [
        "M3 =M1*M2"
      ],
      "metadata": {
        "id": "6edxymRN-ZBM"
      },
      "execution_count": 436,
      "outputs": []
    },
    {
      "cell_type": "code",
      "source": [
        "M3"
      ],
      "metadata": {
        "colab": {
          "base_uri": "https://localhost:8080/",
          "height": 72
        },
        "id": "Kyblb4vF-q7z",
        "outputId": "cdf36d4c-c42d-436e-b620-458f9427d4b9"
      },
      "execution_count": 420,
      "outputs": [
        {
          "output_type": "execute_result",
          "data": {
            "text/plain": [
              "Matrix([\n",
              "[x - x/(0.5 - sqrt(5)/2)],\n",
              "[x/(0.5 + sqrt(5)/2) + x]])"
            ],
            "text/latex": "$\\displaystyle \\left[\\begin{matrix}x - \\frac{x}{0.5 - \\frac{\\sqrt{5}}{2}}\\\\\\frac{x}{0.5 + \\frac{\\sqrt{5}}{2}} + x\\end{matrix}\\right]$"
          },
          "metadata": {},
          "execution_count": 420
        }
      ]
    },
    {
      "cell_type": "code",
      "source": [
        "M4 = M3*Transpose(M3)"
      ],
      "metadata": {
        "id": "veeAJoMh-5qe"
      },
      "execution_count": 438,
      "outputs": []
    },
    {
      "cell_type": "code",
      "source": [
        "M5 = D*M4"
      ],
      "metadata": {
        "id": "H3Z0RYE--8Ez"
      },
      "execution_count": 439,
      "outputs": []
    },
    {
      "cell_type": "code",
      "source": [
        "M5"
      ],
      "metadata": {
        "colab": {
          "base_uri": "https://localhost:8080/",
          "height": 105
        },
        "id": "BFFBBPtg_RWO",
        "outputId": "66dbedb2-d1c3-42f7-8bba-ac5746c5c938"
      },
      "execution_count": 440,
      "outputs": [
        {
          "output_type": "execute_result",
          "data": {
            "text/plain": [
              "Matrix([\n",
              "[                       (3/2 - sqrt(5)/2)*(x - x/(0.5 - sqrt(5)/2))**2, (3/2 - sqrt(5)/2)*(x - x/(0.5 - sqrt(5)/2))*(x/(0.5 + sqrt(5)/2) + x)],\n",
              "[(sqrt(5)/2 + 3/2)*(x - x/(0.5 - sqrt(5)/2))*(x/(0.5 + sqrt(5)/2) + x),                        (sqrt(5)/2 + 3/2)*(x/(0.5 + sqrt(5)/2) + x)**2]])"
            ],
            "text/latex": "$\\displaystyle \\left[\\begin{matrix}\\left(\\frac{3}{2} - \\frac{\\sqrt{5}}{2}\\right) \\left(x - \\frac{x}{0.5 - \\frac{\\sqrt{5}}{2}}\\right)^{2} & \\left(\\frac{3}{2} - \\frac{\\sqrt{5}}{2}\\right) \\left(x - \\frac{x}{0.5 - \\frac{\\sqrt{5}}{2}}\\right) \\left(\\frac{x}{0.5 + \\frac{\\sqrt{5}}{2}} + x\\right)\\\\\\left(\\frac{\\sqrt{5}}{2} + \\frac{3}{2}\\right) \\left(x - \\frac{x}{0.5 - \\frac{\\sqrt{5}}{2}}\\right) \\left(\\frac{x}{0.5 + \\frac{\\sqrt{5}}{2}} + x\\right) & \\left(\\frac{\\sqrt{5}}{2} + \\frac{3}{2}\\right) \\left(\\frac{x}{0.5 + \\frac{\\sqrt{5}}{2}} + x\\right)^{2}\\end{matrix}\\right]$"
          },
          "metadata": {},
          "execution_count": 440
        }
      ]
    },
    {
      "cell_type": "code",
      "source": [
        "M5.apart"
      ],
      "metadata": {
        "colab": {
          "base_uri": "https://localhost:8080/"
        },
        "id": "AlTjivfb_tP4",
        "outputId": "91f747b2-c8ab-4307-bf75-22362a139572"
      },
      "execution_count": 441,
      "outputs": [
        {
          "output_type": "execute_result",
          "data": {
            "text/plain": [
              "<bound method Expr.apart of Matrix([\n",
              "[                       (3/2 - sqrt(5)/2)*(x - x/(0.5 - sqrt(5)/2))**2, (3/2 - sqrt(5)/2)*(x - x/(0.5 - sqrt(5)/2))*(x/(0.5 + sqrt(5)/2) + x)],\n",
              "[(sqrt(5)/2 + 3/2)*(x - x/(0.5 - sqrt(5)/2))*(x/(0.5 + sqrt(5)/2) + x),                        (sqrt(5)/2 + 3/2)*(x/(0.5 + sqrt(5)/2) + x)**2]])>"
            ]
          },
          "metadata": {},
          "execution_count": 441
        }
      ]
    },
    {
      "cell_type": "code",
      "source": [
        "M6 = (3/2 - sqrt(5)/2)*(x - x/(0.5 - sqrt(5)/2))**2 + (sqrt(5)/2 + 3/2)*(x/(0.5 + sqrt(5)/2) + x)**2"
      ],
      "metadata": {
        "id": "6nCftIufCTHr"
      },
      "execution_count": 425,
      "outputs": []
    },
    {
      "cell_type": "code",
      "source": [
        "M6"
      ],
      "metadata": {
        "colab": {
          "base_uri": "https://localhost:8080/",
          "height": 72
        },
        "id": "UbvYs-uICd2m",
        "outputId": "356add84-160d-4907-dc90-bf94dfbe2da6"
      },
      "execution_count": 426,
      "outputs": [
        {
          "output_type": "execute_result",
          "data": {
            "text/plain": [
              "(1.5 - sqrt(5)/2)*(x - x/(0.5 - sqrt(5)/2))**2 + (sqrt(5)/2 + 1.5)*(x/(0.5 + sqrt(5)/2) + x)**2"
            ],
            "text/latex": "$\\displaystyle \\left(1.5 - \\frac{\\sqrt{5}}{2}\\right) \\left(x - \\frac{x}{0.5 - \\frac{\\sqrt{5}}{2}}\\right)^{2} + \\left(\\frac{\\sqrt{5}}{2} + 1.5\\right) \\left(\\frac{x}{0.5 + \\frac{\\sqrt{5}}{2}} + x\\right)^{2}$"
          },
          "metadata": {},
          "execution_count": 426
        }
      ]
    },
    {
      "cell_type": "code",
      "source": [
        "M7 =simplify(M6)"
      ],
      "metadata": {
        "id": "gmP314g3EvUj"
      },
      "execution_count": 427,
      "outputs": []
    },
    {
      "cell_type": "code",
      "source": [
        "M7"
      ],
      "metadata": {
        "colab": {
          "base_uri": "https://localhost:8080/",
          "height": 47
        },
        "id": "lG28WCBvEuyU",
        "outputId": "8c9aa31c-9923-4a7e-e658-883cdde71eb9"
      },
      "execution_count": 428,
      "outputs": [
        {
          "output_type": "execute_result",
          "data": {
            "text/plain": [
              "x**2*(2.0*sqrt(5) + 5.0)"
            ],
            "text/latex": "$\\displaystyle x^{2} \\left(2.0 \\sqrt{5} + 5.0\\right)$"
          },
          "metadata": {},
          "execution_count": 428
        }
      ]
    },
    {
      "cell_type": "code",
      "source": [
        "M8 = exp(- 1/2 * M7)\n"
      ],
      "metadata": {
        "id": "H-v3pxPACet5"
      },
      "execution_count": 429,
      "outputs": []
    },
    {
      "cell_type": "code",
      "source": [
        "M8\n"
      ],
      "metadata": {
        "colab": {
          "base_uri": "https://localhost:8080/",
          "height": 43
        },
        "id": "Zs5_CloWCqiR",
        "outputId": "c8fd39a5-4771-496c-de2c-1944d85706ec"
      },
      "execution_count": 430,
      "outputs": [
        {
          "output_type": "execute_result",
          "data": {
            "text/plain": [
              "exp(-0.5*x**2*(2.0*sqrt(5) + 5.0))"
            ],
            "text/latex": "$\\displaystyle e^{- 0.5 x^{2} \\left(2.0 \\sqrt{5} + 5.0\\right)}$"
          },
          "metadata": {},
          "execution_count": 430
        }
      ]
    },
    {
      "cell_type": "code",
      "source": [
        "M9 =sam.integrate(M8, (x, 0, oo))"
      ],
      "metadata": {
        "id": "oRO1BQcAC7K6"
      },
      "execution_count": 431,
      "outputs": []
    },
    {
      "cell_type": "code",
      "source": [
        "M10 =sam.integrate(M9, (x, 0, oo))"
      ],
      "metadata": {
        "id": "gh3LfClOHAAD"
      },
      "execution_count": 433,
      "outputs": []
    },
    {
      "cell_type": "code",
      "source": [
        ""
      ],
      "metadata": {
        "id": "feNtY-hgM8pJ"
      },
      "execution_count": null,
      "outputs": []
    }
  ]
}