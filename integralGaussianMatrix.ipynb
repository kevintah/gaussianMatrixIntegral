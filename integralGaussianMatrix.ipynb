{
  "nbformat": 4,
  "nbformat_minor": 0,
  "metadata": {
    "colab": {
      "name": "integralGaussianMatrix.ipynb",
      "provenance": [],
      "collapsed_sections": [],
      "authorship_tag": "ABX9TyM1S2+NZjickQQZBg5E5wD6",
      "include_colab_link": true
    },
    "kernelspec": {
      "name": "python3",
      "display_name": "Python 3"
    },
    "language_info": {
      "name": "python"
    }
  },
  "cells": [
    {
      "cell_type": "markdown",
      "metadata": {
        "id": "view-in-github",
        "colab_type": "text"
      },
      "source": [
        "<a href=\"https://colab.research.google.com/github/kevintah/gaussianMatrixIntegral/blob/main/integralGaussianMatrix.ipynb\" target=\"_parent\"><img src=\"https://colab.research.google.com/assets/colab-badge.svg\" alt=\"Open In Colab\"/></a>"
      ]
    },
    {
      "cell_type": "markdown",
      "source": [
        "References  \n",
        "```\n",
        "\n",
        "https://en.wikipedia.org/wiki/Common_integrals_in_quantum_field_theory\n",
        "\n",
        "https://www.youtube.com/watch?v=mUAB1a623cc&t=607s\n",
        "\n",
        "https://docs.sympy.org/latest/modules/matrices/matrices.html\n",
        "\n",
        "https://www.geeksforgeeks.org/python-sympy-matrix-diagonalize-method/\n",
        "\n",
        "https://github.com/sympy/sympy/issues/9712\n"
      ],
      "metadata": {
        "id": "NX_mfhRf9LPR"
      }
    },
    {
      "cell_type": "code",
      "execution_count": 82,
      "metadata": {
        "id": "6gLsL1nk5Xt9"
      },
      "outputs": [],
      "source": [
        "import numpy as np\n",
        "from numpy import linalg as LA\n",
        "from sympy import *\n",
        "import scipy.integrate as integrate\n",
        "import sympy as sam\n"
      ]
    },
    {
      "cell_type": "code",
      "source": [
        "import scipy as sp"
      ],
      "metadata": {
        "id": "aHK3WiT95hHl"
      },
      "execution_count": 83,
      "outputs": []
    },
    {
      "cell_type": "code",
      "source": [
        "A = [[2,1],\n",
        "     [1,1]]"
      ],
      "metadata": {
        "id": "Aw-6UcvG5mLL"
      },
      "execution_count": 84,
      "outputs": []
    },
    {
      "cell_type": "code",
      "source": [
        "Matrix(A).det()"
      ],
      "metadata": {
        "colab": {
          "base_uri": "https://localhost:8080/",
          "height": 38
        },
        "id": "PurME-9KHOq8",
        "outputId": "08dfea88-df20-43ae-a6bf-7192756f5577"
      },
      "execution_count": 85,
      "outputs": [
        {
          "output_type": "execute_result",
          "data": {
            "text/plain": [
              "1"
            ],
            "text/latex": "$\\displaystyle 1$"
          },
          "metadata": {},
          "execution_count": 85
        }
      ]
    },
    {
      "cell_type": "code",
      "source": [
        "Z = Matrix(A)\n",
        "Z.eigenvals()"
      ],
      "metadata": {
        "colab": {
          "base_uri": "https://localhost:8080/"
        },
        "id": "L03fmrq2kNX2",
        "outputId": "2f06c553-a452-49a9-c329-9f20c7e4fa6e"
      },
      "execution_count": 86,
      "outputs": [
        {
          "output_type": "execute_result",
          "data": {
            "text/plain": [
              "{3/2 - sqrt(5)/2: 1, sqrt(5)/2 + 3/2: 1}"
            ]
          },
          "metadata": {},
          "execution_count": 86
        }
      ]
    },
    {
      "cell_type": "code",
      "source": [
        "\n",
        "vects =Z.eigenvects()\n",
        "vects"
      ],
      "metadata": {
        "id": "VhGOEBan5_0K",
        "colab": {
          "base_uri": "https://localhost:8080/"
        },
        "outputId": "17456a66-24ac-40fa-d0a8-917243ea5321"
      },
      "execution_count": 87,
      "outputs": [
        {
          "output_type": "execute_result",
          "data": {
            "text/plain": [
              "[(3/2 - sqrt(5)/2, 1, [Matrix([\n",
              "   [-1/(1/2 + sqrt(5)/2)],\n",
              "   [                   1]])]), (sqrt(5)/2 + 3/2, 1, [Matrix([\n",
              "   [-1/(1/2 - sqrt(5)/2)],\n",
              "   [                   1]])])]"
            ]
          },
          "metadata": {},
          "execution_count": 87
        }
      ]
    },
    {
      "cell_type": "code",
      "source": [
        "Matrix([\n",
        "   [-1/(1/2 + sqrt(5)/2), -1/(1/2 - sqrt(5)/2)],\n",
        "   [                   1, 1]])"
      ],
      "metadata": {
        "colab": {
          "base_uri": "https://localhost:8080/",
          "height": 68
        },
        "id": "3_16bE3A6yBt",
        "outputId": "57c86381-a7d3-41b5-f94b-5263eb2c6cec"
      },
      "execution_count": 88,
      "outputs": [
        {
          "output_type": "execute_result",
          "data": {
            "text/plain": [
              "Matrix([\n",
              "[-1/(0.5 + sqrt(5)/2), -1/(0.5 - sqrt(5)/2)],\n",
              "[                   1,                    1]])"
            ],
            "text/latex": "$\\displaystyle \\left[\\begin{matrix}- \\frac{1}{0.5 + \\frac{\\sqrt{5}}{2}} & - \\frac{1}{0.5 - \\frac{\\sqrt{5}}{2}}\\\\1 & 1\\end{matrix}\\right]$"
          },
          "metadata": {},
          "execution_count": 88
        }
      ]
    },
    {
      "cell_type": "code",
      "source": [
        "a =simplify(-1/(1/2 + sqrt(5)/2))\n",
        "a"
      ],
      "metadata": {
        "colab": {
          "base_uri": "https://localhost:8080/",
          "height": 39
        },
        "id": "o0x_zrxVRjJy",
        "outputId": "b66f704a-044f-4dc1-f656-bb433bf30336"
      },
      "execution_count": 89,
      "outputs": [
        {
          "output_type": "execute_result",
          "data": {
            "text/plain": [
              "0.5 - 0.5*sqrt(5)"
            ],
            "text/latex": "$\\displaystyle 0.5 - 0.5 \\sqrt{5}$"
          },
          "metadata": {},
          "execution_count": 89
        }
      ]
    },
    {
      "cell_type": "code",
      "source": [
        "b= simplify(-1/(1/2 - sqrt(5)/2))\n",
        "b"
      ],
      "metadata": {
        "colab": {
          "base_uri": "https://localhost:8080/",
          "height": 39
        },
        "id": "hoW8Bs46Qk0L",
        "outputId": "4dffa5c7-e9c8-49bf-dc03-cff4b1b84b73"
      },
      "execution_count": 10,
      "outputs": [
        {
          "output_type": "execute_result",
          "data": {
            "text/plain": [
              "0.5 + 0.5*sqrt(5)"
            ],
            "text/latex": "$\\displaystyle 0.5 + 0.5 \\sqrt{5}$"
          },
          "metadata": {},
          "execution_count": 10
        }
      ]
    },
    {
      "cell_type": "code",
      "source": [
        "M = Matrix(A)\n",
        "P, D = M.diagonalize() "
      ],
      "metadata": {
        "id": "GhESsPcO6y9C"
      },
      "execution_count": 11,
      "outputs": []
    },
    {
      "cell_type": "code",
      "source": [
        "D"
      ],
      "metadata": {
        "colab": {
          "base_uri": "https://localhost:8080/",
          "height": 68
        },
        "id": "en6Hr8LM74vG",
        "outputId": "4a91eb2a-a726-45f9-c673-bfdc80547bd5"
      },
      "execution_count": 12,
      "outputs": [
        {
          "output_type": "execute_result",
          "data": {
            "text/plain": [
              "Matrix([\n",
              "[3/2 - sqrt(5)/2,               0],\n",
              "[              0, sqrt(5)/2 + 3/2]])"
            ],
            "text/latex": "$\\displaystyle \\left[\\begin{matrix}\\frac{3}{2} - \\frac{\\sqrt{5}}{2} & 0\\\\0 & \\frac{\\sqrt{5}}{2} + \\frac{3}{2}\\end{matrix}\\right]$"
          },
          "metadata": {},
          "execution_count": 12
        }
      ]
    },
    {
      "cell_type": "code",
      "source": [
        "P"
      ],
      "metadata": {
        "colab": {
          "base_uri": "https://localhost:8080/",
          "height": 61
        },
        "id": "m6tY0t1Z8JrF",
        "outputId": "09f0d752-30c9-47b9-87b0-42fc29886d47"
      },
      "execution_count": 13,
      "outputs": [
        {
          "output_type": "execute_result",
          "data": {
            "text/plain": [
              "Matrix([\n",
              "[1/2 - sqrt(5)/2, 1/2 + sqrt(5)/2],\n",
              "[              1,               1]])"
            ],
            "text/latex": "$\\displaystyle \\left[\\begin{matrix}\\frac{1}{2} - \\frac{\\sqrt{5}}{2} & \\frac{1}{2} + \\frac{\\sqrt{5}}{2}\\\\1 & 1\\end{matrix}\\right]$"
          },
          "metadata": {},
          "execution_count": 13
        }
      ]
    },
    {
      "cell_type": "code",
      "source": [
        "P.inv()"
      ],
      "metadata": {
        "colab": {
          "base_uri": "https://localhost:8080/",
          "height": 72
        },
        "id": "bJoSNiOc8LYp",
        "outputId": "904016a2-4913-45c4-cad2-ac0fa7ce9608"
      },
      "execution_count": 14,
      "outputs": [
        {
          "output_type": "execute_result",
          "data": {
            "text/plain": [
              "Matrix([\n",
              "[(-1 + sqrt(5))/(-5 + sqrt(5)), 1/(5/2 - sqrt(5)/2)],\n",
              "[                    sqrt(5)/5,    1/2 - sqrt(5)/10]])"
            ],
            "text/latex": "$\\displaystyle \\left[\\begin{matrix}\\frac{-1 + \\sqrt{5}}{-5 + \\sqrt{5}} & \\frac{1}{\\frac{5}{2} - \\frac{\\sqrt{5}}{2}}\\\\\\frac{\\sqrt{5}}{5} & \\frac{1}{2} - \\frac{\\sqrt{5}}{10}\\end{matrix}\\right]$"
          },
          "metadata": {},
          "execution_count": 14
        }
      ]
    },
    {
      "cell_type": "code",
      "source": [
        "x1 = Symbol('x1')\n",
        "x2 = Symbol('x2')"
      ],
      "metadata": {
        "id": "ikNmjYS59j2c"
      },
      "execution_count": 102,
      "outputs": []
    },
    {
      "cell_type": "code",
      "source": [
        "M2 = Matrix([[x1],[x2]])"
      ],
      "metadata": {
        "id": "_s0kidO_93gA"
      },
      "execution_count": 103,
      "outputs": []
    },
    {
      "cell_type": "code",
      "source": [
        "M2"
      ],
      "metadata": {
        "colab": {
          "base_uri": "https://localhost:8080/",
          "height": 58
        },
        "id": "Sv0vmd72-YBe",
        "outputId": "a34420aa-7a38-4744-c077-8ff34f97cced"
      },
      "execution_count": 104,
      "outputs": [
        {
          "output_type": "execute_result",
          "data": {
            "text/plain": [
              "Matrix([\n",
              "[x1],\n",
              "[x2]])"
            ],
            "text/latex": "$\\displaystyle \\left[\\begin{matrix}x_{1}\\\\x_{2}\\end{matrix}\\right]$"
          },
          "metadata": {},
          "execution_count": 104
        }
      ]
    },
    {
      "cell_type": "code",
      "source": [
        "y = Transpose(P)*M2"
      ],
      "metadata": {
        "id": "6edxymRN-ZBM"
      },
      "execution_count": 105,
      "outputs": []
    },
    {
      "cell_type": "code",
      "source": [
        "M1 = Transpose(y)*D"
      ],
      "metadata": {
        "id": "ri-YXNEdUSnE"
      },
      "execution_count": 106,
      "outputs": []
    },
    {
      "cell_type": "code",
      "source": [
        "M1"
      ],
      "metadata": {
        "colab": {
          "base_uri": "https://localhost:8080/",
          "height": 47
        },
        "id": "BeAjRTXfURs9",
        "outputId": "5fd73c9d-5dfb-4a4c-8029-9180e6c533b4"
      },
      "execution_count": 107,
      "outputs": [
        {
          "output_type": "execute_result",
          "data": {
            "text/plain": [
              "Matrix([[(3/2 - sqrt(5)/2)*(x1*(1/2 - sqrt(5)/2) + x2), (sqrt(5)/2 + 3/2)*(x1*(1/2 + sqrt(5)/2) + x2)]])"
            ],
            "text/latex": "$\\displaystyle \\left[\\begin{matrix}\\left(\\frac{3}{2} - \\frac{\\sqrt{5}}{2}\\right) \\left(x_{1} \\left(\\frac{1}{2} - \\frac{\\sqrt{5}}{2}\\right) + x_{2}\\right) & \\left(\\frac{\\sqrt{5}}{2} + \\frac{3}{2}\\right) \\left(x_{1} \\left(\\frac{1}{2} + \\frac{\\sqrt{5}}{2}\\right) + x_{2}\\right)\\end{matrix}\\right]$"
          },
          "metadata": {},
          "execution_count": 107
        }
      ]
    },
    {
      "cell_type": "code",
      "source": [
        "M1 = simplify(M1)"
      ],
      "metadata": {
        "id": "NnCkkuxUURfk"
      },
      "execution_count": 108,
      "outputs": []
    },
    {
      "cell_type": "code",
      "source": [
        "M1"
      ],
      "metadata": {
        "colab": {
          "base_uri": "https://localhost:8080/",
          "height": 47
        },
        "id": "rQdw-Kc8URU4",
        "outputId": "1634fa0c-5648-4cee-db90-04aec65fbb13"
      },
      "execution_count": 109,
      "outputs": [
        {
          "output_type": "execute_result",
          "data": {
            "text/plain": [
              "Matrix([[(3 - sqrt(5))*(x1*(1 - sqrt(5)) + 2*x2)/4, (sqrt(5) + 3)*(x1*(1 + sqrt(5)) + 2*x2)/4]])"
            ],
            "text/latex": "$\\displaystyle \\left[\\begin{matrix}\\frac{\\left(3 - \\sqrt{5}\\right) \\left(x_{1} \\left(1 - \\sqrt{5}\\right) + 2 x_{2}\\right)}{4} & \\frac{\\left(\\sqrt{5} + 3\\right) \\left(x_{1} \\left(1 + \\sqrt{5}\\right) + 2 x_{2}\\right)}{4}\\end{matrix}\\right]$"
          },
          "metadata": {},
          "execution_count": 109
        }
      ]
    },
    {
      "cell_type": "code",
      "source": [
        "M2 = M1*y"
      ],
      "metadata": {
        "id": "ttpXnQhLURMr"
      },
      "execution_count": 110,
      "outputs": []
    },
    {
      "cell_type": "code",
      "source": [
        "M2"
      ],
      "metadata": {
        "colab": {
          "base_uri": "https://localhost:8080/",
          "height": 49
        },
        "id": "KAJVfFSYURCO",
        "outputId": "71b6b0df-87fb-457d-beaf-a42f6db06b4a"
      },
      "execution_count": 111,
      "outputs": [
        {
          "output_type": "execute_result",
          "data": {
            "text/plain": [
              "Matrix([[(3 - sqrt(5))*(x1*(1/2 - sqrt(5)/2) + x2)*(x1*(1 - sqrt(5)) + 2*x2)/4 + (sqrt(5) + 3)*(x1*(1/2 + sqrt(5)/2) + x2)*(x1*(1 + sqrt(5)) + 2*x2)/4]])"
            ],
            "text/latex": "$\\displaystyle \\left[\\begin{matrix}\\frac{\\left(3 - \\sqrt{5}\\right) \\left(x_{1} \\left(\\frac{1}{2} - \\frac{\\sqrt{5}}{2}\\right) + x_{2}\\right) \\left(x_{1} \\left(1 - \\sqrt{5}\\right) + 2 x_{2}\\right)}{4} + \\frac{\\left(\\sqrt{5} + 3\\right) \\left(x_{1} \\left(\\frac{1}{2} + \\frac{\\sqrt{5}}{2}\\right) + x_{2}\\right) \\left(x_{1} \\left(1 + \\sqrt{5}\\right) + 2 x_{2}\\right)}{4}\\end{matrix}\\right]$"
          },
          "metadata": {},
          "execution_count": 111
        }
      ]
    },
    {
      "cell_type": "code",
      "source": [
        "M2 = simplify(M2)"
      ],
      "metadata": {
        "id": "ygh-D4p_UQ1c"
      },
      "execution_count": 112,
      "outputs": []
    },
    {
      "cell_type": "code",
      "source": [
        "M2"
      ],
      "metadata": {
        "colab": {
          "base_uri": "https://localhost:8080/",
          "height": 39
        },
        "id": "FvPOYKTNUQow",
        "outputId": "af871348-3711-46c2-f878-3cb7d2a655bf"
      },
      "execution_count": 113,
      "outputs": [
        {
          "output_type": "execute_result",
          "data": {
            "text/plain": [
              "Matrix([[7*x1**2 + 8*x1*x2 + 3*x2**2]])"
            ],
            "text/latex": "$\\displaystyle \\left[\\begin{matrix}7 x_{1}^{2} + 8 x_{1} x_{2} + 3 x_{2}^{2}\\end{matrix}\\right]$"
          },
          "metadata": {},
          "execution_count": 113
        }
      ]
    },
    {
      "cell_type": "code",
      "source": [
        "M3 = sam.integrate(exp(-(1/2)*M2),(x1,-oo,oo))"
      ],
      "metadata": {
        "id": "Jk4deB9tUQUU"
      },
      "execution_count": 116,
      "outputs": []
    },
    {
      "cell_type": "code",
      "source": [
        "M3 = simplify(M3)"
      ],
      "metadata": {
        "id": "zTmN2fjYUQKj"
      },
      "execution_count": 117,
      "outputs": []
    },
    {
      "cell_type": "code",
      "source": [
        "M3"
      ],
      "metadata": {
        "colab": {
          "base_uri": "https://localhost:8080/",
          "height": 47
        },
        "id": "8njUdEhUUQB6",
        "outputId": "838ef2ce-acff-4095-8cd5-a30fc328cb03"
      },
      "execution_count": 118,
      "outputs": [
        {
          "output_type": "execute_result",
          "data": {
            "text/plain": [
              "Matrix([[0.534522483824849*sqrt(pi)*exp(-0.357142857142857*x2**2)]])"
            ],
            "text/latex": "$\\displaystyle \\left[\\begin{matrix}0.534522483824849 \\sqrt{\\pi} e^{- 0.357142857142857 x_{2}^{2}}\\end{matrix}\\right]$"
          },
          "metadata": {},
          "execution_count": 118
        }
      ]
    },
    {
      "cell_type": "code",
      "source": [
        "M4 = sam.integrate(M3,(x2,-oo,oo))"
      ],
      "metadata": {
        "id": "dm2rxrSkY5og"
      },
      "execution_count": 121,
      "outputs": []
    },
    {
      "cell_type": "code",
      "source": [
        "M4"
      ],
      "metadata": {
        "colab": {
          "base_uri": "https://localhost:8080/",
          "height": 39
        },
        "id": "hvg2iLqnUP66",
        "outputId": "81946501-524d-4583-c0b9-8307bd701c13"
      },
      "execution_count": 122,
      "outputs": [
        {
          "output_type": "execute_result",
          "data": {
            "text/plain": [
              "Matrix([[0.894427190999916*pi]])"
            ],
            "text/latex": "$\\displaystyle \\left[\\begin{matrix}0.894427190999916 \\pi\\end{matrix}\\right]$"
          },
          "metadata": {},
          "execution_count": 122
        }
      ]
    },
    {
      "cell_type": "code",
      "source": [
        ""
      ],
      "metadata": {
        "id": "lAqo-WQpUPzr"
      },
      "execution_count": null,
      "outputs": []
    },
    {
      "cell_type": "code",
      "source": [
        ""
      ],
      "metadata": {
        "id": "SOxsAb78UPgf"
      },
      "execution_count": null,
      "outputs": []
    }
  ]
}