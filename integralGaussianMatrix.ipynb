{
  "nbformat": 4,
  "nbformat_minor": 0,
  "metadata": {
    "colab": {
      "name": "integralGaussianMatrix.ipynb",
      "provenance": [],
      "authorship_tag": "ABX9TyM9aZQdhhlIHesw8mQ/DHAq",
      "include_colab_link": true
    },
    "kernelspec": {
      "name": "python3",
      "display_name": "Python 3"
    },
    "language_info": {
      "name": "python"
    }
  },
  "cells": [
    {
      "cell_type": "markdown",
      "metadata": {
        "id": "view-in-github",
        "colab_type": "text"
      },
      "source": [
        "<a href=\"https://colab.research.google.com/github/kevintah/gaussianMatrixIntegral/blob/main/integralGaussianMatrix.ipynb\" target=\"_parent\"><img src=\"https://colab.research.google.com/assets/colab-badge.svg\" alt=\"Open In Colab\"/></a>"
      ]
    },
    {
      "cell_type": "markdown",
      "source": [
        "References\n",
        "```\n",
        "\n",
        "https://en.wikipedia.org/wiki/Common_integrals_in_quantum_field_theory\n",
        "\n",
        "https://www.youtube.com/watch?v=mUAB1a623cc&t=607s\n",
        "\n",
        "https://docs.sympy.org/latest/modules/matrices/matrices.html\n",
        "\n",
        "https://www.geeksforgeeks.org/python-sympy-matrix-diagonalize-method/\n",
        "\n",
        "https://github.com/sympy/sympy/issues/9712\n"
      ],
      "metadata": {
        "id": "NX_mfhRf9LPR"
      }
    },
    {
      "cell_type": "code",
      "execution_count": 111,
      "metadata": {
        "id": "6gLsL1nk5Xt9"
      },
      "outputs": [],
      "source": [
        "import numpy as np\n",
        "from numpy import linalg as LA\n",
        "from sympy import *\n",
        "import scipy.integrate as integrate\n",
        "import sympy as sam\n"
      ]
    },
    {
      "cell_type": "code",
      "source": [
        "import scipy as sp"
      ],
      "metadata": {
        "id": "aHK3WiT95hHl"
      },
      "execution_count": 112,
      "outputs": []
    },
    {
      "cell_type": "code",
      "source": [
        "A = [[2,1],\n",
        "     [1,2]]"
      ],
      "metadata": {
        "id": "Aw-6UcvG5mLL"
      },
      "execution_count": 113,
      "outputs": []
    },
    {
      "cell_type": "code",
      "source": [
        "w, v = LA.eig(A)"
      ],
      "metadata": {
        "id": "VhGOEBan5_0K"
      },
      "execution_count": 114,
      "outputs": []
    },
    {
      "cell_type": "code",
      "source": [
        "w"
      ],
      "metadata": {
        "colab": {
          "base_uri": "https://localhost:8080/"
        },
        "id": "KiBb9op16wpe",
        "outputId": "db023cab-b227-4a9f-f8e4-caba58a7ccac"
      },
      "execution_count": 115,
      "outputs": [
        {
          "output_type": "execute_result",
          "data": {
            "text/plain": [
              "array([3., 1.])"
            ]
          },
          "metadata": {},
          "execution_count": 115
        }
      ]
    },
    {
      "cell_type": "code",
      "source": [
        "v"
      ],
      "metadata": {
        "colab": {
          "base_uri": "https://localhost:8080/"
        },
        "id": "3_16bE3A6yBt",
        "outputId": "ddd96206-b60e-45b9-a058-c2ad053fb5ad"
      },
      "execution_count": 116,
      "outputs": [
        {
          "output_type": "execute_result",
          "data": {
            "text/plain": [
              "array([[ 0.70710678, -0.70710678],\n",
              "       [ 0.70710678,  0.70710678]])"
            ]
          },
          "metadata": {},
          "execution_count": 116
        }
      ]
    },
    {
      "cell_type": "code",
      "source": [
        "M = Matrix(A)\n",
        "P, D = M.diagonalize() "
      ],
      "metadata": {
        "id": "GhESsPcO6y9C"
      },
      "execution_count": 117,
      "outputs": []
    },
    {
      "cell_type": "code",
      "source": [
        "D"
      ],
      "metadata": {
        "colab": {
          "base_uri": "https://localhost:8080/",
          "height": 58
        },
        "id": "en6Hr8LM74vG",
        "outputId": "f9deb5a4-8333-4bd6-8f28-9c084b7102e9"
      },
      "execution_count": 118,
      "outputs": [
        {
          "output_type": "execute_result",
          "data": {
            "text/plain": [
              "Matrix([\n",
              "[1, 0],\n",
              "[0, 3]])"
            ],
            "text/latex": "$\\displaystyle \\left[\\begin{matrix}1 & 0\\\\0 & 3\\end{matrix}\\right]$"
          },
          "metadata": {},
          "execution_count": 118
        }
      ]
    },
    {
      "cell_type": "code",
      "source": [
        "P"
      ],
      "metadata": {
        "colab": {
          "base_uri": "https://localhost:8080/",
          "height": 58
        },
        "id": "m6tY0t1Z8JrF",
        "outputId": "2d1800f0-3b83-442e-a2e3-50aa5649667f"
      },
      "execution_count": 119,
      "outputs": [
        {
          "output_type": "execute_result",
          "data": {
            "text/plain": [
              "Matrix([\n",
              "[-1, 1],\n",
              "[ 1, 1]])"
            ],
            "text/latex": "$\\displaystyle \\left[\\begin{matrix}-1 & 1\\\\1 & 1\\end{matrix}\\right]$"
          },
          "metadata": {},
          "execution_count": 119
        }
      ]
    },
    {
      "cell_type": "code",
      "source": [
        "P.inv()"
      ],
      "metadata": {
        "colab": {
          "base_uri": "https://localhost:8080/",
          "height": 58
        },
        "id": "bJoSNiOc8LYp",
        "outputId": "4dc58784-0ccd-4c83-a779-b0cb5a3823f7"
      },
      "execution_count": 120,
      "outputs": [
        {
          "output_type": "execute_result",
          "data": {
            "text/plain": [
              "Matrix([\n",
              "[-1/2, 1/2],\n",
              "[ 1/2, 1/2]])"
            ],
            "text/latex": "$\\displaystyle \\left[\\begin{matrix}- \\frac{1}{2} & \\frac{1}{2}\\\\\\frac{1}{2} & \\frac{1}{2}\\end{matrix}\\right]$"
          },
          "metadata": {},
          "execution_count": 120
        }
      ]
    },
    {
      "cell_type": "code",
      "source": [
        "x=Symbol('x')\n",
        "x**2\n",
        "M2 =exp(D*-x**2)\n",
        "M2"
      ],
      "metadata": {
        "colab": {
          "base_uri": "https://localhost:8080/",
          "height": 68
        },
        "id": "QVanyTFy8dVK",
        "outputId": "f491fd7f-8d8e-462f-f25b-ea24ccea5eb5"
      },
      "execution_count": 121,
      "outputs": [
        {
          "output_type": "execute_result",
          "data": {
            "text/plain": [
              "Matrix([\n",
              "[exp(-x**2),            0],\n",
              "[         0, exp(-3*x**2)]])"
            ],
            "text/latex": "$\\displaystyle \\left[\\begin{matrix}e^{- x^{2}} & 0\\\\0 & e^{- 3 x^{2}}\\end{matrix}\\right]$"
          },
          "metadata": {},
          "execution_count": 121
        }
      ]
    },
    {
      "cell_type": "code",
      "source": [
        "M3 = P*M2*P.inv()"
      ],
      "metadata": {
        "id": "r5zTObbh-CWu"
      },
      "execution_count": 122,
      "outputs": []
    },
    {
      "cell_type": "code",
      "source": [
        "M3"
      ],
      "metadata": {
        "colab": {
          "base_uri": "https://localhost:8080/",
          "height": 71
        },
        "id": "samj62q__R0E",
        "outputId": "472e6140-6c47-48ff-9ddb-d4a0cd54e435"
      },
      "execution_count": 123,
      "outputs": [
        {
          "output_type": "execute_result",
          "data": {
            "text/plain": [
              "Matrix([\n",
              "[ exp(-x**2)/2 + exp(-3*x**2)/2, -exp(-x**2)/2 + exp(-3*x**2)/2],\n",
              "[-exp(-x**2)/2 + exp(-3*x**2)/2,  exp(-x**2)/2 + exp(-3*x**2)/2]])"
            ],
            "text/latex": "$\\displaystyle \\left[\\begin{matrix}\\frac{e^{- x^{2}}}{2} + \\frac{e^{- 3 x^{2}}}{2} & - \\frac{e^{- x^{2}}}{2} + \\frac{e^{- 3 x^{2}}}{2}\\\\- \\frac{e^{- x^{2}}}{2} + \\frac{e^{- 3 x^{2}}}{2} & \\frac{e^{- x^{2}}}{2} + \\frac{e^{- 3 x^{2}}}{2}\\end{matrix}\\right]$"
          },
          "metadata": {},
          "execution_count": 123
        }
      ]
    },
    {
      "cell_type": "code",
      "source": [
        "M3.integrate(x,)"
      ],
      "metadata": {
        "colab": {
          "base_uri": "https://localhost:8080/",
          "height": 79
        },
        "id": "qN13ZXfTAH4c",
        "outputId": "9097e054-cd2f-4a4e-e842-2072d6d3613f"
      },
      "execution_count": 124,
      "outputs": [
        {
          "output_type": "execute_result",
          "data": {
            "text/plain": [
              "Matrix([\n",
              "[ sqrt(pi)*erf(x)/4 + sqrt(3)*sqrt(pi)*erf(sqrt(3)*x)/12, -sqrt(pi)*erf(x)/4 + sqrt(3)*sqrt(pi)*erf(sqrt(3)*x)/12],\n",
              "[-sqrt(pi)*erf(x)/4 + sqrt(3)*sqrt(pi)*erf(sqrt(3)*x)/12,  sqrt(pi)*erf(x)/4 + sqrt(3)*sqrt(pi)*erf(sqrt(3)*x)/12]])"
            ],
            "text/latex": "$\\displaystyle \\left[\\begin{matrix}\\frac{\\sqrt{\\pi} \\operatorname{erf}{\\left(x \\right)}}{4} + \\frac{\\sqrt{3} \\sqrt{\\pi} \\operatorname{erf}{\\left(\\sqrt{3} x \\right)}}{12} & - \\frac{\\sqrt{\\pi} \\operatorname{erf}{\\left(x \\right)}}{4} + \\frac{\\sqrt{3} \\sqrt{\\pi} \\operatorname{erf}{\\left(\\sqrt{3} x \\right)}}{12}\\\\- \\frac{\\sqrt{\\pi} \\operatorname{erf}{\\left(x \\right)}}{4} + \\frac{\\sqrt{3} \\sqrt{\\pi} \\operatorname{erf}{\\left(\\sqrt{3} x \\right)}}{12} & \\frac{\\sqrt{\\pi} \\operatorname{erf}{\\left(x \\right)}}{4} + \\frac{\\sqrt{3} \\sqrt{\\pi} \\operatorname{erf}{\\left(\\sqrt{3} x \\right)}}{12}\\end{matrix}\\right]$"
          },
          "metadata": {},
          "execution_count": 124
        }
      ]
    },
    {
      "cell_type": "code",
      "source": [
        "sam.integrate(M3.as_mutable(), (x,0,oo))"
      ],
      "metadata": {
        "colab": {
          "base_uri": "https://localhost:8080/",
          "height": 68
        },
        "id": "xSSNV1tDEsX6",
        "outputId": "1d7ea8ee-46cb-435a-a1e8-d3e47a493089"
      },
      "execution_count": 126,
      "outputs": [
        {
          "output_type": "execute_result",
          "data": {
            "text/plain": [
              "Matrix([\n",
              "[ sqrt(3)*sqrt(pi)/12 + sqrt(pi)/4, -sqrt(pi)/4 + sqrt(3)*sqrt(pi)/12],\n",
              "[-sqrt(pi)/4 + sqrt(3)*sqrt(pi)/12,  sqrt(3)*sqrt(pi)/12 + sqrt(pi)/4]])"
            ],
            "text/latex": "$\\displaystyle \\left[\\begin{matrix}\\frac{\\sqrt{3} \\sqrt{\\pi}}{12} + \\frac{\\sqrt{\\pi}}{4} & - \\frac{\\sqrt{\\pi}}{4} + \\frac{\\sqrt{3} \\sqrt{\\pi}}{12}\\\\- \\frac{\\sqrt{\\pi}}{4} + \\frac{\\sqrt{3} \\sqrt{\\pi}}{12} & \\frac{\\sqrt{3} \\sqrt{\\pi}}{12} + \\frac{\\sqrt{\\pi}}{4}\\end{matrix}\\right]$"
          },
          "metadata": {},
          "execution_count": 126
        }
      ]
    },
    {
      "cell_type": "code",
      "source": [
        ""
      ],
      "metadata": {
        "id": "XccI_7woOTxF"
      },
      "execution_count": null,
      "outputs": []
    }
  ]
}